{
 "cells": [
  {
   "cell_type": "markdown",
   "metadata": {},
   "source": [
    "<!--NAVIGATION-->\n",
    "<a href=\"https://colab.research.google.com/github/marcoteran/deeplearningmodule/blob/main/06_dataaugmentationandtransferlearning/06_dataaugmentationandtransferlearning.ipynb\" target=\"_blank\"><img align=\"left\" src=\"https://colab.research.google.com/assets/colab-badge.svg\" alt=\"Abrir en Colab\" title=\"Abrir y ejecutar en Google Colaboratory\"></a>"
   ]
  },
  {
   "cell_type": "markdown",
   "metadata": {
    "colab_type": "text",
    "id": "Upj99k3gOKrQ"
   },
   "source": [
    "## Ejemplos de código\n",
    "# Deep Learning:  *Data Augmentation* y *Transfer Learning*"
   ]
  },
  {
   "cell_type": "markdown",
   "metadata": {},
   "source": [
    "- *Name:* Marco Teran\n",
    "- *E-mail:* marco.teran@usa.edu.co\n",
    "- [Website](http://marcoteran.github.io/), [Github](https://github.com/marcoteran), [LinkedIn](https://www.linkedin.com/in/marcoteran/).\n",
    "\n",
    "\n",
    "[**Slide del tema** ](https://github.com/marcoteran/deeplearningmodule/raw/main/05_deeplearning_generativeadversialnetworks.pdf)"
   ]
  },
  {
   "cell_type": "markdown",
   "metadata": {},
   "source": [
    "### Importar librerías importantes\n",
    "\n",
    "Empezamos con las importaciones estándar:"
   ]
  },
  {
   "cell_type": "code",
   "execution_count": 0,
   "metadata": {
    "colab": {
     "base_uri": "https://localhost:8080/",
     "height": 34
    },
    "colab_type": "code",
    "id": "QsdNz2pwOMIK",
    "outputId": "5511537e-d305-49b3-b5d3-c6577a6700b5"
   },
   "outputs": [
    {
     "name": "stdout",
     "output_type": "stream",
     "text": [
      "2.1.0-rc1\n"
     ]
    }
   ],
   "source": [
    "import matplotlib.pyplot as plt\n",
    "\n",
    "%tensorflow_version 2.x\n",
    "import tensorflow as tf\n",
    "from tensorflow import keras\n",
    "\n",
    "print(tf.__version__)"
   ]
  },
  {
   "cell_type": "markdown",
   "metadata": {},
   "source": [
    "## Introducción\n",
    "\n",
    "Data Augmentation: una de las técnicas más populares para mitigar el sobreajuste en los modelos de redes neuronales. En nuestro caso de estudio, esta técnica mejorará el modelo del capítulo anterior, que presentaba una precisión de 73.9 %, alcanzando una precisión de 80.1 %. Transfer Learning: permitirá mejorar aún más el modelo anterior.\n",
    "Primero presentaremos la técnica Feature Extraction usando una red preentrenada que nos llevará a una precisión de 90.4 % y, después, la técnica Fine-Tuning de una red preentrenada que nos llevará a una precisión de 93.1 %"
   ]
  },
  {
   "cell_type": "markdown",
   "metadata": {},
   "source": [
    "## Data Augmentation\n",
    "\n",
    "Cuantos menos datos tengamos, menos datos para entrenar y menos posibilidades tendremos de obtener predicciones precisas para datos que nuestro modelo aún no ha visto. Data Augmentation adopta el enfoque de generar más datos de entrenamiento a partir de nuestros datos disponibles. En el caso de imágenes, esto lo consigue aplicando una serie de transformaciones aleatorias a la imagen que producen nuevas imágenes de aspecto creíble. Esta idea simple, pero potente, ayuda a exponer el modelo a más aspectos de los datos y a generalizar mejor."
   ]
  },
  {
   "cell_type": "markdown",
   "metadata": {},
   "source": [
    "### Transformaciones de imágenes\n",
    "\n",
    "Esta técnica es especialmente poderosa para datos de tipo imagen pero, a la vez, es muy simple, ya que aplica transformaciones sencillas (rotar, voltear...) a las imágenes para obtener nuevas imágenes plausibles, que podrían estar en el conjunto de datos original.\n",
    "No obstante, debe tenerse cuidado con la elección de las técnicas específicas de aumento de datos utilizadas. Hay que tener en cuenta el contexto del conjunto de datos de entrenamiento y el conocimiento del dominio del problema, para no generar imágenes que nunca podrían encontrarse en realidad ya que, de esta manera, estaríamos empeorando el entrenamiento.\n",
    "\n",
    "En Keras, esto se puede hacer de manera muy fácil mediante la configuración de una serie de transformaciones que se realizarán en las imágenes leídas por la instancia de ``ImageDataGenerator``.\n",
    "\n",
    "Para obtener información detallada sobre las transformaciones disponibles puede consultar la API preprocessing de Keras.\n",
    "\n",
    "Es importante resaltar que se realiza la transformación de manera onlinedurante el procesamiento, lo cual permite hacer el proceso automático mientras se realiza el entrenamiento sin necesidad de modificar los datos almacenados en disco. Así, el modelo ve una imagen generada aleatoriamente una sola vez. Evidentemente, estas transformaciones se podrían realizar previamente e incluirse en el conjunto de datos de entrenamiento. De esta manera, el preprocesado resultaría más rápido, puesto que no se realizarían las transformaciones en tiempo de ejecución; pero, en cambio, el espacio de almacenamiento y el tiempo de carga de los datos en memoria serían más elevados."
   ]
  },
  {
   "cell_type": "markdown",
   "metadata": {},
   "source": [
    "#### Configuración de ImageGenerator\n",
    "\n",
    "Cogiendo de base el modelo presentado en el capítulo anterior, apliquemos la técnica Data Augmentation pasando nuevos argumentos al objeto ImageGenerator de los datos de entrenamiento. Hay varios parámetros; nosotros hemos elegido los siguientes para nuestro caso de estudio: \n",
    "```Python\n",
    "train_datagen = ImageDataGenerator(\n",
    "      rescale=1./255,\n",
    "      rotation_range=40,\n",
    "      width_shift_range=0.2,\n",
    "      height_shift_range=0.2,\n",
    "      shear_range=0.2,\n",
    "      zoom_range=0.2,\n",
    "      horizontal_flip=True,\n",
    "      fill_mode='nearest')\n",
    "```"
   ]
  },
  {
   "cell_type": "markdown",
   "metadata": {},
   "source": [
    "* ``rotation_range`` es un valor en grados (0-180) que indica el rango dentrodel cual se pueden rotar imágenes al azar.\n",
    "* ``width_shift`` y height_shift son rangos (como una fracción del ancho y laaltura total) dentro de los cuales se pueden trasladar las imágenes alazar verticalmente u horizontalmente.\n",
    "* shear_range sirve para aplicar transformaciones de corte al azar.\n",
    "* ``zoom_range sirve para aplicar zoom aleatorio dentro de las imágenes\n",
    "* ``horizontal_flip`` sirve para voltear aleatoriamente la mitad de las imágeneshorizontalmente (en nuestro caso de estudio no tiene sentido voltearverticalmente las imágenes).\n",
    "* ``fill_mode`` es la estrategia utilizada para rellenar los píxeles reciéncreados que pueden aparecer después de una de las transformaciones anteriores.\n",
    "\n",
    "Estas son solo algunas de las opciones disponibles de transformación. Todas las restantes se pueden consultar en la página web de la API preprocessing de Keras."
   ]
  },
  {
   "cell_type": "code",
   "execution_count": 1,
   "metadata": {},
   "outputs": [
    {
     "ename": "ModuleNotFoundError",
     "evalue": "No module named 'google.colab'",
     "output_type": "error",
     "traceback": [
      "\u001b[1;31m---------------------------------------------------------------------------\u001b[0m",
      "\u001b[1;31mModuleNotFoundError\u001b[0m                       Traceback (most recent call last)",
      "\u001b[1;32m<ipython-input-1-4fc7c67a6ccb>\u001b[0m in \u001b[0;36m<module>\u001b[1;34m\u001b[0m\n\u001b[0;32m      5\u001b[0m \u001b[1;32mfrom\u001b[0m \u001b[0mmatplotlib\u001b[0m \u001b[1;32mimport\u001b[0m \u001b[0mpyplot\u001b[0m\u001b[1;33m\u001b[0m\u001b[1;33m\u001b[0m\u001b[0m\n\u001b[0;32m      6\u001b[0m \u001b[1;33m\u001b[0m\u001b[0m\n\u001b[1;32m----> 7\u001b[1;33m \u001b[1;32mfrom\u001b[0m \u001b[0mgoogle\u001b[0m\u001b[1;33m.\u001b[0m\u001b[0mcolab\u001b[0m \u001b[1;32mimport\u001b[0m \u001b[0mfiles\u001b[0m\u001b[1;33m\u001b[0m\u001b[1;33m\u001b[0m\u001b[0m\n\u001b[0m\u001b[0;32m      8\u001b[0m \u001b[1;32mfrom\u001b[0m \u001b[0mtensorflow\u001b[0m\u001b[1;33m.\u001b[0m\u001b[0mkeras\u001b[0m\u001b[1;33m.\u001b[0m\u001b[0mpreprocessing\u001b[0m \u001b[1;32mimport\u001b[0m \u001b[0mimage\u001b[0m\u001b[1;33m\u001b[0m\u001b[1;33m\u001b[0m\u001b[0m\n\u001b[0;32m      9\u001b[0m \u001b[1;33m\u001b[0m\u001b[0m\n",
      "\u001b[1;31mModuleNotFoundError\u001b[0m: No module named 'google.colab'"
     ]
    }
   ],
   "source": [
    "from numpy import expand_dims\n",
    "from tensorflow.keras.preprocessing.image import load_img\n",
    "from tensorflow.keras.preprocessing.image import img_to_array\n",
    "from tensorflow.keras.preprocessing.image import ImageDataGenerator\n",
    "from matplotlib import pyplot\n",
    "\n",
    "from google.colab import files\n",
    "from tensorflow.keras.preprocessing import image\n",
    " \n",
    "uploaded=files.upload()\n",
    "for fn in uploaded.keys():\n",
    "    path='/content/' + fn\n",
    "    img=image.load_img(path)\n",
    "    data = img_to_array(img)\n",
    "    samples = expand_dims(data, 0)\n",
    "  \n",
    "    # example of \"rotation_range\"\n",
    "    datagen = ImageDataGenerator(rotation_range=45)\n",
    "\n",
    "    it = datagen.flow(samples, batch_size=1)\n",
    "    for i in range(6):\n",
    "        pyplot.subplot(230 + 1 + i)\n",
    "        batch = it.next()\n",
    "        image = batch[0].astype('uint8')\n",
    "        pyplot.imshow(image)\n",
    "pyplot.show()"
   ]
  },
  {
   "cell_type": "markdown",
   "metadata": {},
   "source": [
    "Podemos ver cómo se han generado diferentes imágenes aleatoriamente a partir de la imagen original y en base al argumento rotation_range. Se puede probar por su cuenta otros argumentos usando este código como base"
   ]
  },
  {
   "cell_type": "markdown",
   "metadata": {
    "colab_type": "text",
    "id": "7j8fvlLyachD"
   },
   "source": [
    "## Carga de la base de datos"
   ]
  },
  {
   "cell_type": "code",
   "execution_count": 0,
   "metadata": {
    "colab": {},
    "colab_type": "code",
    "id": "6t5CmAYSvj-5"
   },
   "outputs": [],
   "source": [
    "import os\n",
    "import zipfile\n",
    "from google.colab import files\n",
    "\n",
    "# se debe cargar el fichero “cats_and_dogs_small.zip”\n",
    "files.upload()"
   ]
  },
  {
   "cell_type": "code",
   "execution_count": 0,
   "metadata": {
    "colab": {},
    "colab_type": "code",
    "id": "sJN-eZ0YBsYl"
   },
   "outputs": [],
   "source": [
    "local_zip = '/content/cats_and_dogs_small.zip'\n",
    "\n",
    "zip_ref = zipfile.ZipFile(local_zip, 'r')\n",
    "\n",
    "zip_ref.extractall('/content')\n",
    "zip_ref.close()"
   ]
  },
  {
   "cell_type": "code",
   "execution_count": 0,
   "metadata": {
    "colab": {},
    "colab_type": "code",
    "id": "ZtsbWwXcBscw"
   },
   "outputs": [],
   "source": [
    "base_dir = '/content/cats_and_dogs_small'\n",
    "\n",
    "train_dir =      os.path.join(base_dir, 'train')\n",
    "validation_dir = os.path.join(base_dir, 'validation')\n",
    "test_dir =       os.path.join(base_dir, 'test')\n",
    "\n",
    "# Directorio con las imagenes de training \n",
    "train_cats_dir = os.path.join(train_dir, 'cats')\n",
    "train_dogs_dir = os.path.join(train_dir, 'dogs')\n",
    "\n",
    "# Directorio con las imagenes de validation\n",
    "validation_cats_dir = os.path.join(validation_dir, 'cats')\n",
    "validation_dogs_dir = os.path.join(validation_dir, 'dogs')\n",
    "\n",
    "# Directorio con las imagenes de test\n",
    "test_cats_dir = os.path.join(test_dir, 'cats')\n",
    "test_dogs_dir = os.path.join(test_dir, 'dogs')"
   ]
  },
  {
   "cell_type": "code",
   "execution_count": 0,
   "metadata": {
    "colab": {
     "base_uri": "https://localhost:8080/",
     "height": 118
    },
    "colab_type": "code",
    "id": "W9r7wCYmBsix",
    "outputId": "4edbf2ea-df14-446a-dff7-eb0e78e34478"
   },
   "outputs": [
    {
     "name": "stdout",
     "output_type": "stream",
     "text": [
      "total training cat images : 1000\n",
      "total training dog images : 1000\n",
      "total validation cat images : 500\n",
      "total validation dog images : 500\n",
      "total test cat images : 500\n",
      "total test dog images : 500\n"
     ]
    }
   ],
   "source": [
    "print('total training cat images :', len(os.listdir(train_cats_dir ) ))\n",
    "print('total training dog images :', len(os.listdir(train_dogs_dir ) ))\n",
    "\n",
    "print('total validation cat images :', len(os.listdir( validation_cats_dir ) ))\n",
    "print('total validation dog images :', len(os.listdir( validation_dogs_dir ) ))\n",
    "\n",
    "print('total test cat images :', len(os.listdir( test_cats_dir ) ))\n",
    "print('total test dog images :', len(os.listdir( test_dogs_dir ) ))\n"
   ]
  },
  {
   "cell_type": "markdown",
   "metadata": {},
   "source": [
    "### Aumentación de los datos\n",
    "\n",
    "Es importante resaltar que el aumento de datos de imagen generalmente solo se aplica al conjunto de datos de entrenamiento, y no al conjunto de datos de validación o prueba. Esto es diferente de la preparación de datos, como el cambio de tamaño de la imagen y la escala de píxeles, que sí se aplica a todos. Teniendo en cuenta esto, los generadores para nuestro caso de estudio se pueden especificar de la siguiente forma:"
   ]
  },
  {
   "cell_type": "code",
   "execution_count": 0,
   "metadata": {
    "colab": {},
    "colab_type": "code",
    "id": "elvc8kFYKj0Y"
   },
   "outputs": [],
   "source": [
    "from tensorflow.keras.preprocessing.image import ImageDataGenerator\n",
    "\n",
    "train_datagen = ImageDataGenerator(\n",
    "      rescale=1./255,\n",
    "      rotation_range=40,\n",
    "      width_shift_range=0.2,\n",
    "      height_shift_range=0.2,\n",
    "      shear_range=0.2,\n",
    "      zoom_range=0.2,\n",
    "      horizontal_flip=True,\n",
    "      fill_mode='nearest')\n",
    "\n",
    "validation_datagen  = ImageDataGenerator( rescale = 1.0/255. )\n",
    "test_datagen  = ImageDataGenerator( rescale = 1.0/255. )\n",
    "\n",
    "\n",
    "train_generator = train_datagen.flow_from_directory(train_dir,\n",
    "                                                    batch_size=20,\n",
    "                                                    class_mode='binary',\n",
    "                                                    target_size=(150, 150))     \n",
    "\n",
    "validation_generator =  validation_datagen.flow_from_directory(validation_dir,\n",
    "                                                         batch_size=20,\n",
    "                                                         class_mode  = 'binary',\n",
    "                                                         target_size = (150, 150))\n",
    "\n",
    "\n",
    "test_generator =  test_datagen.flow_from_directory(validation_dir,\n",
    "                                                         batch_size=20,\n",
    "                                                         class_mode  = 'binary',\n",
    "                                                         target_size = (150, 150))"
   ]
  },
  {
   "cell_type": "markdown",
   "metadata": {
    "colab_type": "text",
    "id": "5RgKnvsfKkr8"
   },
   "source": [
    "## Creación del modelo CNN con DA: Modelo CNN con *Data Augmentation*"
   ]
  },
  {
   "cell_type": "code",
   "execution_count": null,
   "metadata": {},
   "outputs": [],
   "source": [
    "from tensorflow.keras import Model\n",
    "\n",
    "from tensorflow.keras import Sequential\n",
    "from tensorflow.keras.layers import Conv2D, MaxPooling2D, Flatten, Dense\n",
    "from tensorflow.keras.optimizers import RMSprop"
   ]
  },
  {
   "cell_type": "markdown",
   "metadata": {},
   "source": [
    "Definición de una red convolucional de más capas"
   ]
  },
  {
   "cell_type": "code",
   "execution_count": 0,
   "metadata": {
    "colab": {},
    "colab_type": "code",
    "id": "JaBxETn7Kjwj"
   },
   "outputs": [],
   "source": [
    "modelDA = Sequential()\n",
    "modelDA.add(Conv2D(32, (3,3), activation='relu', input_shape=(150, 150, 3)))\n",
    "modelDA.add(MaxPooling2D(2, 2))\n",
    "modelDA.add(Conv2D(64, (3,3), activation='relu'))\n",
    "modelDA.add(MaxPooling2D(2,2))\n",
    "modelDA.add(Conv2D(128, (3,3), activation='relu'))\n",
    "modelDA.add(MaxPooling2D(2,2))\n",
    "modelDA.add(Conv2D(128, (3,3), activation='relu'))\n",
    "modelDA.add(MaxPooling2D(2,2))\n",
    "modelDA.add(Flatten())\n",
    "modelDA.add(Dense(512, activation='relu'))\n",
    "modelDA.add(Dense(1, activation='sigmoid'))"
   ]
  },
  {
   "cell_type": "markdown",
   "metadata": {},
   "source": [
    "Comprobar la estructura de la red"
   ]
  },
  {
   "cell_type": "code",
   "execution_count": null,
   "metadata": {},
   "outputs": [],
   "source": [
    "modelDA.summary()"
   ]
  },
  {
   "cell_type": "markdown",
   "metadata": {},
   "source": [
    "### Compilación del modelo"
   ]
  },
  {
   "cell_type": "code",
   "execution_count": null,
   "metadata": {},
   "outputs": [],
   "source": [
    "modelDA.compile(loss='binary_crossentropy',\n",
    "              optimizer=RMSprop(lr=1e-4),\n",
    "              metrics=['acc'])"
   ]
  },
  {
   "cell_type": "markdown",
   "metadata": {},
   "source": [
    "## Entrenamiento de la red\n",
    "\n",
    "Ahora que ya se ha definido la estructura de red, el optimizador, learning rate y metricas ya se puede entrenar la red."
   ]
  },
  {
   "cell_type": "code",
   "execution_count": 0,
   "metadata": {
    "colab": {
     "base_uri": "https://localhost:8080/",
     "height": 1000
    },
    "colab_type": "code",
    "id": "xU48fLeFKj3I",
    "outputId": "82c9d71d-2b37-4ffb-e1c9-adf7b02f9ed1"
   },
   "outputs": [
    {
     "name": "stdout",
     "output_type": "stream",
     "text": [
      "WARNING:tensorflow:sample_weight modes were coerced from\n",
      "  ...\n",
      "    to  \n",
      "  ['...']\n",
      "WARNING:tensorflow:sample_weight modes were coerced from\n",
      "  ...\n",
      "    to  \n",
      "  ['...']\n",
      "Train for 100 steps, validate for 50 steps\n",
      "Epoch 1/100\n",
      "100/100 - 22s - loss: 0.6915 - acc: 0.5285 - val_loss: 0.6991 - val_acc: 0.5010\n",
      "Epoch 2/100\n",
      "100/100 - 16s - loss: 0.6760 - acc: 0.5715 - val_loss: 0.6571 - val_acc: 0.5930\n",
      "Epoch 3/100\n",
      "100/100 - 16s - loss: 0.6704 - acc: 0.5840 - val_loss: 0.6462 - val_acc: 0.6150\n",
      "Epoch 4/100\n",
      "100/100 - 16s - loss: 0.6551 - acc: 0.6065 - val_loss: 0.6457 - val_acc: 0.6080\n",
      "Epoch 5/100\n",
      "100/100 - 16s - loss: 0.6427 - acc: 0.6350 - val_loss: 0.6186 - val_acc: 0.6410\n",
      "Epoch 6/100\n",
      "100/100 - 16s - loss: 0.6161 - acc: 0.6550 - val_loss: 0.7826 - val_acc: 0.5400\n",
      "Epoch 7/100\n",
      "100/100 - 16s - loss: 0.6153 - acc: 0.6600 - val_loss: 0.6238 - val_acc: 0.6460\n",
      "Epoch 8/100\n",
      "100/100 - 16s - loss: 0.6060 - acc: 0.6720 - val_loss: 0.6084 - val_acc: 0.6520\n",
      "Epoch 9/100\n",
      "100/100 - 16s - loss: 0.6054 - acc: 0.6665 - val_loss: 0.5618 - val_acc: 0.7060\n",
      "Epoch 10/100\n",
      "100/100 - 16s - loss: 0.5962 - acc: 0.6740 - val_loss: 0.5512 - val_acc: 0.7010\n",
      "Epoch 11/100\n",
      "100/100 - 16s - loss: 0.5884 - acc: 0.6820 - val_loss: 0.5690 - val_acc: 0.6970\n",
      "Epoch 12/100\n",
      "100/100 - 16s - loss: 0.5833 - acc: 0.6860 - val_loss: 0.5456 - val_acc: 0.7140\n",
      "Epoch 13/100\n",
      "100/100 - 16s - loss: 0.5760 - acc: 0.7045 - val_loss: 0.5384 - val_acc: 0.7230\n",
      "Epoch 14/100\n",
      "100/100 - 16s - loss: 0.5718 - acc: 0.7025 - val_loss: 0.5408 - val_acc: 0.7130\n",
      "Epoch 15/100\n",
      "100/100 - 16s - loss: 0.5644 - acc: 0.7120 - val_loss: 0.5487 - val_acc: 0.7130\n",
      "Epoch 16/100\n",
      "100/100 - 16s - loss: 0.5522 - acc: 0.7165 - val_loss: 0.5362 - val_acc: 0.7220\n",
      "Epoch 17/100\n",
      "100/100 - 16s - loss: 0.5492 - acc: 0.7190 - val_loss: 0.5185 - val_acc: 0.7340\n",
      "Epoch 18/100\n",
      "100/100 - 16s - loss: 0.5498 - acc: 0.7190 - val_loss: 0.5279 - val_acc: 0.7350\n",
      "Epoch 19/100\n",
      "100/100 - 16s - loss: 0.5462 - acc: 0.7175 - val_loss: 0.5146 - val_acc: 0.7340\n",
      "Epoch 20/100\n",
      "100/100 - 16s - loss: 0.5299 - acc: 0.7375 - val_loss: 0.5023 - val_acc: 0.7490\n",
      "Epoch 21/100\n",
      "100/100 - 16s - loss: 0.5369 - acc: 0.7280 - val_loss: 0.4990 - val_acc: 0.7510\n",
      "Epoch 22/100\n",
      "100/100 - 16s - loss: 0.5443 - acc: 0.7245 - val_loss: 0.5361 - val_acc: 0.7380\n",
      "Epoch 23/100\n",
      "100/100 - 16s - loss: 0.5296 - acc: 0.7350 - val_loss: 0.5000 - val_acc: 0.7480\n",
      "Epoch 24/100\n",
      "100/100 - 16s - loss: 0.5215 - acc: 0.7405 - val_loss: 0.5027 - val_acc: 0.7320\n",
      "Epoch 25/100\n",
      "100/100 - 16s - loss: 0.5282 - acc: 0.7385 - val_loss: 0.5302 - val_acc: 0.7230\n",
      "Epoch 26/100\n",
      "100/100 - 16s - loss: 0.5271 - acc: 0.7325 - val_loss: 0.4907 - val_acc: 0.7460\n",
      "Epoch 27/100\n",
      "100/100 - 16s - loss: 0.5150 - acc: 0.7475 - val_loss: 0.5392 - val_acc: 0.7330\n",
      "Epoch 28/100\n",
      "100/100 - 16s - loss: 0.5023 - acc: 0.7510 - val_loss: 0.4819 - val_acc: 0.7580\n",
      "Epoch 29/100\n",
      "100/100 - 16s - loss: 0.4841 - acc: 0.7635 - val_loss: 0.4777 - val_acc: 0.7630\n",
      "Epoch 30/100\n",
      "100/100 - 16s - loss: 0.5061 - acc: 0.7615 - val_loss: 0.4956 - val_acc: 0.7590\n",
      "Epoch 31/100\n",
      "100/100 - 16s - loss: 0.5057 - acc: 0.7485 - val_loss: 0.4807 - val_acc: 0.7600\n",
      "Epoch 32/100\n",
      "100/100 - 16s - loss: 0.4914 - acc: 0.7605 - val_loss: 0.4784 - val_acc: 0.7620\n",
      "Epoch 33/100\n",
      "100/100 - 16s - loss: 0.5027 - acc: 0.7520 - val_loss: 0.4734 - val_acc: 0.7710\n",
      "Epoch 34/100\n",
      "100/100 - 16s - loss: 0.4856 - acc: 0.7625 - val_loss: 0.5013 - val_acc: 0.7520\n",
      "Epoch 35/100\n",
      "100/100 - 16s - loss: 0.4897 - acc: 0.7700 - val_loss: 0.4638 - val_acc: 0.7740\n",
      "Epoch 36/100\n",
      "100/100 - 16s - loss: 0.4787 - acc: 0.7600 - val_loss: 0.5560 - val_acc: 0.7130\n",
      "Epoch 37/100\n",
      "100/100 - 16s - loss: 0.4950 - acc: 0.7585 - val_loss: 0.4735 - val_acc: 0.7610\n",
      "Epoch 38/100\n",
      "100/100 - 16s - loss: 0.4805 - acc: 0.7635 - val_loss: 0.4724 - val_acc: 0.7640\n",
      "Epoch 39/100\n",
      "100/100 - 16s - loss: 0.4797 - acc: 0.7610 - val_loss: 0.4679 - val_acc: 0.7730\n",
      "Epoch 40/100\n",
      "100/100 - 16s - loss: 0.4838 - acc: 0.7580 - val_loss: 0.4661 - val_acc: 0.7720\n",
      "Epoch 41/100\n",
      "100/100 - 16s - loss: 0.4823 - acc: 0.7680 - val_loss: 0.4862 - val_acc: 0.7650\n",
      "Epoch 42/100\n",
      "100/100 - 16s - loss: 0.4742 - acc: 0.7755 - val_loss: 0.4690 - val_acc: 0.7610\n",
      "Epoch 43/100\n",
      "100/100 - 16s - loss: 0.4694 - acc: 0.7745 - val_loss: 0.5381 - val_acc: 0.7360\n",
      "Epoch 44/100\n",
      "100/100 - 16s - loss: 0.4645 - acc: 0.7795 - val_loss: 0.4587 - val_acc: 0.7710\n",
      "Epoch 45/100\n",
      "100/100 - 16s - loss: 0.4608 - acc: 0.7740 - val_loss: 0.4535 - val_acc: 0.7830\n",
      "Epoch 46/100\n",
      "100/100 - 16s - loss: 0.4621 - acc: 0.7755 - val_loss: 0.4627 - val_acc: 0.7810\n",
      "Epoch 47/100\n",
      "100/100 - 16s - loss: 0.4658 - acc: 0.7715 - val_loss: 0.4454 - val_acc: 0.7950\n",
      "Epoch 48/100\n",
      "100/100 - 16s - loss: 0.4723 - acc: 0.7760 - val_loss: 0.5411 - val_acc: 0.7240\n",
      "Epoch 49/100\n",
      "100/100 - 16s - loss: 0.4598 - acc: 0.7850 - val_loss: 0.5247 - val_acc: 0.7430\n",
      "Epoch 50/100\n",
      "100/100 - 16s - loss: 0.4623 - acc: 0.7790 - val_loss: 0.4842 - val_acc: 0.7660\n",
      "Epoch 51/100\n",
      "100/100 - 16s - loss: 0.4497 - acc: 0.7870 - val_loss: 0.5380 - val_acc: 0.7400\n",
      "Epoch 52/100\n",
      "100/100 - 16s - loss: 0.4568 - acc: 0.7760 - val_loss: 0.4641 - val_acc: 0.7660\n",
      "Epoch 53/100\n",
      "100/100 - 16s - loss: 0.4505 - acc: 0.7915 - val_loss: 0.5178 - val_acc: 0.7540\n",
      "Epoch 54/100\n",
      "100/100 - 16s - loss: 0.4384 - acc: 0.7920 - val_loss: 0.4502 - val_acc: 0.7910\n",
      "Epoch 55/100\n",
      "100/100 - 16s - loss: 0.4423 - acc: 0.7960 - val_loss: 0.4578 - val_acc: 0.7860\n",
      "Epoch 56/100\n",
      "100/100 - 16s - loss: 0.4401 - acc: 0.7995 - val_loss: 0.4677 - val_acc: 0.7730\n",
      "Epoch 57/100\n",
      "100/100 - 16s - loss: 0.4220 - acc: 0.8080 - val_loss: 0.5128 - val_acc: 0.7590\n",
      "Epoch 58/100\n",
      "100/100 - 16s - loss: 0.4156 - acc: 0.8115 - val_loss: 0.4617 - val_acc: 0.7860\n",
      "Epoch 59/100\n",
      "100/100 - 16s - loss: 0.4313 - acc: 0.7925 - val_loss: 0.4384 - val_acc: 0.8010\n",
      "Epoch 60/100\n",
      "100/100 - 16s - loss: 0.4496 - acc: 0.7960 - val_loss: 0.4771 - val_acc: 0.7750\n",
      "Epoch 61/100\n",
      "100/100 - 16s - loss: 0.4243 - acc: 0.7990 - val_loss: 0.7587 - val_acc: 0.6820\n",
      "Epoch 62/100\n",
      "100/100 - 16s - loss: 0.4192 - acc: 0.8040 - val_loss: 0.4456 - val_acc: 0.7860\n",
      "Epoch 63/100\n",
      "100/100 - 16s - loss: 0.4191 - acc: 0.8060 - val_loss: 0.4538 - val_acc: 0.7880\n",
      "Epoch 64/100\n",
      "100/100 - 16s - loss: 0.4218 - acc: 0.8140 - val_loss: 0.4516 - val_acc: 0.7890\n",
      "Epoch 65/100\n",
      "100/100 - 16s - loss: 0.4266 - acc: 0.8085 - val_loss: 0.4404 - val_acc: 0.8040\n",
      "Epoch 66/100\n",
      "100/100 - 16s - loss: 0.4189 - acc: 0.7985 - val_loss: 0.4708 - val_acc: 0.7840\n",
      "Epoch 67/100\n",
      "100/100 - 16s - loss: 0.4252 - acc: 0.7950 - val_loss: 0.4745 - val_acc: 0.7880\n",
      "Epoch 68/100\n",
      "100/100 - 16s - loss: 0.4171 - acc: 0.8120 - val_loss: 0.4266 - val_acc: 0.7960\n",
      "Epoch 69/100\n",
      "100/100 - 16s - loss: 0.4101 - acc: 0.8095 - val_loss: 0.4685 - val_acc: 0.7920\n",
      "Epoch 70/100\n",
      "100/100 - 16s - loss: 0.4062 - acc: 0.8060 - val_loss: 0.4426 - val_acc: 0.8010\n",
      "Epoch 71/100\n",
      "100/100 - 16s - loss: 0.3999 - acc: 0.8135 - val_loss: 0.4500 - val_acc: 0.7870\n",
      "Epoch 72/100\n",
      "100/100 - 16s - loss: 0.4123 - acc: 0.8115 - val_loss: 0.5149 - val_acc: 0.7690\n",
      "Epoch 73/100\n",
      "100/100 - 16s - loss: 0.4087 - acc: 0.8120 - val_loss: 0.4487 - val_acc: 0.8040\n",
      "Epoch 74/100\n",
      "100/100 - 16s - loss: 0.3968 - acc: 0.8165 - val_loss: 0.5558 - val_acc: 0.7330\n",
      "Epoch 75/100\n",
      "100/100 - 16s - loss: 0.4136 - acc: 0.8080 - val_loss: 0.4362 - val_acc: 0.7980\n",
      "Epoch 76/100\n",
      "100/100 - 16s - loss: 0.3993 - acc: 0.8185 - val_loss: 0.4781 - val_acc: 0.7750\n",
      "Epoch 77/100\n",
      "100/100 - 16s - loss: 0.3955 - acc: 0.8205 - val_loss: 0.4283 - val_acc: 0.8080\n",
      "Epoch 78/100\n",
      "100/100 - 16s - loss: 0.3867 - acc: 0.8270 - val_loss: 0.4402 - val_acc: 0.8110\n",
      "Epoch 79/100\n",
      "100/100 - 16s - loss: 0.3888 - acc: 0.8195 - val_loss: 0.6029 - val_acc: 0.7340\n",
      "Epoch 80/100\n",
      "100/100 - 16s - loss: 0.3992 - acc: 0.8125 - val_loss: 0.4441 - val_acc: 0.7880\n",
      "Epoch 81/100\n",
      "100/100 - 16s - loss: 0.3890 - acc: 0.8265 - val_loss: 0.5065 - val_acc: 0.7810\n",
      "Epoch 82/100\n",
      "100/100 - 16s - loss: 0.3919 - acc: 0.8280 - val_loss: 0.4123 - val_acc: 0.8140\n",
      "Epoch 83/100\n",
      "100/100 - 16s - loss: 0.3874 - acc: 0.8165 - val_loss: 0.4390 - val_acc: 0.8000\n",
      "Epoch 84/100\n",
      "100/100 - 16s - loss: 0.3867 - acc: 0.8250 - val_loss: 0.4831 - val_acc: 0.7840\n",
      "Epoch 85/100\n",
      "100/100 - 16s - loss: 0.3825 - acc: 0.8310 - val_loss: 0.4292 - val_acc: 0.8110\n",
      "Epoch 86/100\n",
      "100/100 - 16s - loss: 0.3616 - acc: 0.8310 - val_loss: 0.4538 - val_acc: 0.8020\n",
      "Epoch 87/100\n",
      "100/100 - 16s - loss: 0.3917 - acc: 0.8270 - val_loss: 0.4752 - val_acc: 0.7960\n",
      "Epoch 88/100\n",
      "100/100 - 16s - loss: 0.3697 - acc: 0.8360 - val_loss: 0.4652 - val_acc: 0.7950\n",
      "Epoch 89/100\n",
      "100/100 - 16s - loss: 0.3593 - acc: 0.8330 - val_loss: 0.5362 - val_acc: 0.7600\n",
      "Epoch 90/100\n",
      "100/100 - 16s - loss: 0.3656 - acc: 0.8345 - val_loss: 0.4996 - val_acc: 0.7920\n",
      "Epoch 91/100\n",
      "100/100 - 16s - loss: 0.3716 - acc: 0.8215 - val_loss: 0.4642 - val_acc: 0.8030\n",
      "Epoch 92/100\n",
      "100/100 - 16s - loss: 0.3698 - acc: 0.8365 - val_loss: 0.4574 - val_acc: 0.8020\n",
      "Epoch 93/100\n",
      "100/100 - 16s - loss: 0.3713 - acc: 0.8415 - val_loss: 0.4445 - val_acc: 0.8100\n",
      "Epoch 94/100\n",
      "100/100 - 16s - loss: 0.3574 - acc: 0.8315 - val_loss: 0.6288 - val_acc: 0.7500\n",
      "Epoch 95/100\n",
      "100/100 - 16s - loss: 0.3613 - acc: 0.8365 - val_loss: 0.4245 - val_acc: 0.8120\n",
      "Epoch 96/100\n",
      "100/100 - 16s - loss: 0.3599 - acc: 0.8380 - val_loss: 0.4430 - val_acc: 0.8190\n",
      "Epoch 97/100\n",
      "100/100 - 16s - loss: 0.3607 - acc: 0.8385 - val_loss: 0.4906 - val_acc: 0.7710\n",
      "Epoch 98/100\n",
      "100/100 - 16s - loss: 0.3646 - acc: 0.8320 - val_loss: 0.4369 - val_acc: 0.8100\n",
      "Epoch 99/100\n",
      "100/100 - 16s - loss: 0.3548 - acc: 0.8415 - val_loss: 0.4510 - val_acc: 0.7920\n",
      "Epoch 100/100\n",
      "100/100 - 16s - loss: 0.3502 - acc: 0.8435 - val_loss: 0.5326 - val_acc: 0.7840\n"
     ]
    }
   ],
   "source": [
    "batch_size = 20\n",
    "steps_per_epoch = train_generator.n // batch_size\n",
    "validation_steps = validation_generator.n // batch_size\n",
    "\n",
    "historyDA = modelDA.fit(\n",
    "    train_generator,\n",
    "    steps_per_epoch= steps_per_epoch,\n",
    "    epochs= 100,\n",
    "    validation_data= validation_generator,\n",
    "    validation_steps= validation_steps,\n",
    "    verbose=2)"
   ]
  },
  {
   "cell_type": "markdown",
   "metadata": {},
   "source": [
    "### Evaluación de la red\n",
    "\n",
    "Para ver si la red ha aprendido a clasificar bien los números manuscritos hay que comprobar la precisión que obtiene en el conjunto de datos de test. Para este conjunto no ha sido entrenada la red."
   ]
  },
  {
   "cell_type": "code",
   "execution_count": 0,
   "metadata": {
    "colab": {
     "base_uri": "https://localhost:8080/",
     "height": 151
    },
    "colab_type": "code",
    "id": "zkmHqrzCKj8g",
    "outputId": "1b91ca94-1eda-4a1f-e962-d3a3f0369d73"
   },
   "outputs": [
    {
     "name": "stdout",
     "output_type": "stream",
     "text": [
      "100\n",
      "50\n",
      "WARNING:tensorflow:sample_weight modes were coerced from\n",
      "  ...\n",
      "    to  \n",
      "  ['...']\n",
      "50/50 [==============================] - 3s 54ms/step - loss: 0.5326 - acc: 0.7840\n",
      "Test Accuracy: 0.784\n"
     ]
    }
   ],
   "source": [
    "print (steps_per_epoch)\n",
    "print (validation_steps)\n",
    "test_lost, test_acc= modelDA.evaluate(test_generator)\n",
    "print (\"Test Accuracy:\", test_acc)"
   ]
  },
  {
   "cell_type": "code",
   "execution_count": 0,
   "metadata": {
    "colab": {
     "base_uri": "https://localhost:8080/",
     "height": 623
    },
    "colab_type": "code",
    "id": "GP2sz8eoKj_T",
    "outputId": "09a9ad92-2b5b-4f3e-a9de-83986a5b1001"
   },
   "outputs": [
    {
     "name": "stderr",
     "output_type": "stream",
     "text": [
      "No handles with labels found to put in legend.\n"
     ]
    },
    {
     "data": {
      "text/plain": [
       "<Figure size 432x288 with 0 Axes>"
      ]
     },
     "execution_count": 19,
     "metadata": {
      "tags": []
     },
     "output_type": "execute_result"
    },
    {
     "data": {
      "image/png": "[encoded data removed]",
      "text/plain": [
       "<Figure size 432x288 with 1 Axes>"
      ]
     },
     "metadata": {
      "tags": []
     },
     "output_type": "display_data"
    },
    {
     "data": {
      "image/png": "[encoded data removed]",
      "text/plain": [
       "<Figure size 432x288 with 1 Axes>"
      ]
     },
     "metadata": {
      "tags": []
     },
     "output_type": "display_data"
    },
    {
     "data": {
      "text/plain": [
       "<Figure size 432x288 with 0 Axes>"
      ]
     },
     "metadata": {
      "tags": []
     },
     "output_type": "display_data"
    }
   ],
   "source": [
    "acc      = historyDA.history['acc' ]\n",
    "val_acc  = historyDA.history['val_acc']\n",
    "loss     = historyDA.history['loss' ]\n",
    "val_loss = historyDA.history['val_loss']\n",
    "\n",
    "epochs    = range(1,len(acc)+1,1) # obtener número de epochs\n",
    "\n",
    "plt.plot  ( epochs,     acc, 'r--', label='Training acc'  )\n",
    "plt.plot  ( epochs, val_acc,  'b', label='Validation acc')\n",
    "plt.title ('Training and validation accuracy')\n",
    "plt.ylabel('acc')\n",
    "plt.xlabel('epochs')\n",
    "\n",
    "plt.legend()\n",
    "plt.figure()\n",
    "\n",
    "\n",
    "plt.plot  ( epochs,     loss, 'r--' )\n",
    "plt.plot  ( epochs, val_loss ,  'b' )\n",
    "plt.title ('Training and validation loss'   )\n",
    "plt.ylabel('loss')\n",
    "plt.xlabel('epochs')\n",
    "\n",
    "plt.legend()\n",
    "plt.figure()\n",
    "\n"
   ]
  },
  {
   "cell_type": "markdown",
   "metadata": {},
   "source": [
    "En resumen, en esta sección hemos examinado esta técnica realmente útil que la API Keras ofrece para simular efectivamente un conjunto de datos más grande para entrenar la red neuronal y poder reducir así el problema de sobreentrenamiento.\n",
    "Aun así, las entradas que ve la red neuronal todavía están muy correlacionadas, ya que provienen de una pequeña cantidad de imágenes originales: no puede producir nueva información, solo puede mezclar la información existente. Como tal, esto puede no ser suficiente para deshacerse por completo del overfitting en algunos casos. Para seguir luchando en la mitigación del sobreentrenamiento se pueden añadir técnicas como la regularización o Dropout, que hemos comentado anteriormente. Pero incluso así, a veces, debido a no tener más datos, no es suficiente para obtener mejores modelos. Para estos casos aún nos queda otra oportunidad, que presentamos en la siguiente sección: usar modelos preentrenados."
   ]
  },
  {
   "cell_type": "markdown",
   "metadata": {},
   "source": [
    "# Transfer Learning\n",
    "\n",
    "Se evidenció cómo aminorar el efecto de un sobreajuste de un modelo con una técnica muy útil para imágenes, como es Data Augmentation. Pero, en realidad, nos encontramos limitados en cuanto a descubrir características de los datos, puesto que si los datos de entrenamiento son muy pocos, al hacer transformaciones con la técnica de Data Augmentation parte de las características de las nuevas imágenes son repeticiones de las anteriores."
   ]
  },
  {
   "cell_type": "markdown",
   "metadata": {},
   "source": [
    "## Concepto de Transfer Learning\n",
    "\n",
    "Transfer Learning es una de las técnicas centrales actualmente en Deep Learning. Su interés radica en que, en lugar de necesitar entrenar una red neuronal desde cero, lo cual implica disponer de una gran cantidad de datos y de mucho tiempo (días o semanas) de computación para entrenar, lo hacemos desde una red preentrenada.\n",
    "\n",
    "Esta técnica nos permite descargar un modelo de código abierto que alguien ya ha entrenado previamente en un gran conjunto de datos y usar sus parámetros (miles o millones) como punto de partida para, posteriormente, continuar entrenando el modelo con el conjunto de datos (más pequeño) que tengamos para una tarea determinada.\n",
    "\n",
    "Si el conjunto de datos original con el que se entrenó la red neuronal preentrenada es suficientemente grande y general, entonces la jerarquía espacial de las características (features) aprendidas por la red preentrenada permite al modelo preentrenado actuar como un modelo genérico del mundo visual y, por lo tanto, sus características pueden resultar útiles para muchos problemas diferentes de visión por computadora, a pesar de que estos nuevos problemas pueden involucrar clases completamente diferentes a las de la tarea original\n",
    "\n",
    "Recordaremos que en una red neuronal convolucional cada capa va aprendiendo diferentes niveles de abstracción, siendo las primeras capas las encargadas de aprender características más genéricas. Estas primeras capas son las que podemos volver a usar fácilmente, puesto que las características aprendidas son aplicables a otros problemas.\n",
    "\n",
    "Esta «portabilidad» de las características aprendidas a través de diferentes problemas es una de las virtudes clave del Transfer Learning. Específicamente, en el caso de la visión por computador, muchos modelos previamente entrenados (muchos entrenados en el conjunto de datos ImageNet ahora están disponibles públicamente para su descarga y se pueden usar para crear potentes modelos de visión con muy pocos datos.\n",
    "\n",
    "Hay dos formas de utilizar una red preentrenada, que presentamos a continuación: Feature Extraction y Fine-Tuning."
   ]
  },
  {
   "cell_type": "markdown",
   "metadata": {},
   "source": [
    "### Feature Extraction\n",
    "\n",
    "Feature Extraction consiste en utilizar los parámetros aprendidos por una red preentrenada para extraer características (features) interesantes de nuevos datos.\n",
    "Estas características obtenidas de los nuevos datos se procesan a través de un nuevo clasificador, que se entrena desde cero.\n",
    "\n",
    "Las ConvNet utilizadas para clasificar imágenes se componían de dos partes: una serie de capas de convoluciones y pooling, y un clasificador formado habitualmente por una o varias capas densas.\n",
    "\n",
    "La primera parte se llama base convolucional (convolutional base) del modelo. En el caso de las ConvNet, la extracción de características consiste en tomar la base convolucional de una red previamente entrenada, ejecutar los nuevos datos a través de ella y entrenar a un nuevo clasificador en la parte de la salida.\n",
    "\n",
    "En la Figura 11.4 se muestra de forma esquemática esta idea. A la izquierda se muestra una ConvNet resaltando sus dos partes, la compuesta por las capas convolucionales y de pooling, y el clasificador final. En la figura del medio resaltamos que de esta ConvNet de base desechamos las capas finales de clasificación y nos quedamos con la primera parte, tanto con su estructura de capas como con los valores de los parámetros (pesos y sesgos de sus neuronas), que llamamos base convolucional. Finalmente, en la figura de la derecha se representa la estructura de la ConvNet que usaremos para clasificar nuestros nuevos datos. A la base convolucional que ya se encuentra entrenada le añadimos las capas finales que se requieran para hacer el clasificador a la medida del problema que estamos tratando. Recordemos que este nuevo clasificador sí que requiere entrenamiento\n",
    "\n",
    "Representación esquemática de las redes neuronales preentrenadas usadas en la técnica de Feature Extraction."
   ]
  },
  {
   "cell_type": "markdown",
   "metadata": {},
   "source": [
    "Resulta muy útil reutilizar la base convolucional porque las características aprendidas por la red preeentrenada de donde se ha extraído son mapas de características de conceptos genéricos sobre una imagen, lo que en general resulta «portable» a otros problemas del mismo ámbito. En general no se reutiliza el clasificador entrenado, ya que las representaciones aprendidas por el clasificador serán necesariamente específicas del conjunto de clases en las que se formó el modelo; solo contendrán información sobre la probabilidad de presencia de esta o aquella clase en la imagen completa.\n",
    "\n",
    "Además, las representaciones encontradas en capas densamente conectadas ya no mantienen información sobre dónde se encuentran los objetos en la imagen de entrada porque estas capas eliminan la noción de espacio, a diferencia de las capas convolucionales\n",
    "\n",
    "Lo más interesante para nosotros ahora es que la API de Keras nos permite aplicar esta técnica de una manera muy fácil y con pocas líneas de código.\n",
    "Keras permite descargar un modelo y luego configurar cómo este debe ser entrenado, indicando qué capas son entrenables (Trainable layers) y qué capas no (Frozen layers).\n",
    "\n",
    "En general se requieren unas cuantas iteraciones de prueba y error para descubrir la combinación correcta. Concretamente en el caso de visión por computador, muchos modelos preentrenados con ImageNet se encuentran disponibles en la mayoría de librerías de desarrollo de Deep Learning, como es el caso de Keras."
   ]
  },
  {
   "cell_type": "markdown",
   "metadata": {},
   "source": [
    "En concreto en la página de modelos preentrenados ``tf.keras.applications172`` podemos encontrar disponibles los siguientes modelos para clasificación de imágenes entrenados con ImageNet:\n",
    "* Xception\n",
    "* VGG16\n",
    "* VGG19\n",
    "* ResNet50\n",
    "* InceptionV3\n",
    "* InceptionResNetV2\n",
    "* MobileNet\n",
    "* MobileNetV2\n",
    "* DenseNet\n",
    "* NASNet"
   ]
  },
  {
   "cell_type": "markdown",
   "metadata": {
    "colab_type": "text",
    "id": "ccc5u4fembNS"
   },
   "source": [
    "###  VGG16: Modelo con *Feature Extraction*"
   ]
  },
  {
   "cell_type": "markdown",
   "metadata": {},
   "source": [
    "Se usará la red neuronal VGG16, que tiene una arquitectura convolucional como las que hemos comentado en los capítulos previos.\n",
    "La red neuronal VGG16 se ha entrenado previamente en un conjunto de datos de ImageNet, que recordemos que tiene 1.4 millones de imágenes en 1000 clases diferentes.\n",
    "ImageNet contiene muchas clases de animales, incluidas diferentes especies de gatos y perros, por lo que podemos esperar un buen rendimiento en el problema de clasificación de perros contra gatos.\n",
    "El modelo VGG16 es una red de 16 capas propuesta por Karen Simonyan y Andrew Zisserman en su artículo «Very Deep Convolutional Networks for Large-Scale Image Recognition»."
   ]
  },
  {
   "cell_type": "markdown",
   "metadata": {},
   "source": [
    "El modelo VGG16 podemos importarlo desde el módulo ``keras.applications``"
   ]
  },
  {
   "cell_type": "code",
   "execution_count": null,
   "metadata": {},
   "outputs": [],
   "source": [
    "from tensorflow.keras.applications import VGG16"
   ]
  },
  {
   "cell_type": "markdown",
   "metadata": {},
   "source": [
    "A este constructor de la red VGG16 se le pasan tres argumentos.\n",
    "1. La forma de los tensores de imágenes que alimentarán a la red (es un argumento opcional).\n",
    "2. El argumento ``include_top`` donde se indica si se debe incluir (o no) el clasificador en la última capa de la red. \n",
    "    * Este caso, esta capa corresponde a la capa que clasifica las 1000 clases de ImageNet. Debido a que tenemos la intención de usar nuestro propio clasificador (que clasifica solo dos clases: gato y perro) no necesitamos incluirla.\n",
    "3. El último argumento, ``weights``, que indica de dónde se obtiene la información para iniciar los pesos de los parámetros de la red (en nuestro caso usaremos ImageNet)"
   ]
  },
  {
   "cell_type": "code",
   "execution_count": 0,
   "metadata": {
    "colab": {
     "base_uri": "https://localhost:8080/",
     "height": 1000
    },
    "colab_type": "code",
    "id": "V2uilIo5hY4y",
    "outputId": "f24bf48c-9e28-404f-c322-41a8d6dcf4b3"
   },
   "outputs": [
    {
     "name": "stdout",
     "output_type": "stream",
     "text": [
      "Downloading data from https://github.com/fchollet/deep-learning-models/releases/download/v0.1/vgg16_weights_tf_dim_ordering_tf_kernels_notop.h5\n",
      "58892288/58889256 [==============================] - 2s 0us/step\n",
      "Model: \"vgg16\"\n",
      "_________________________________________________________________\n",
      "Layer (type)                 Output Shape              Param #   \n",
      "=================================================================\n",
      "input_1 (InputLayer)         [(None, 150, 150, 3)]     0         \n",
      "_________________________________________________________________\n",
      "block1_conv1 (Conv2D)        (None, 150, 150, 64)      1792      \n",
      "_________________________________________________________________\n",
      "block1_conv2 (Conv2D)        (None, 150, 150, 64)      36928     \n",
      "_________________________________________________________________\n",
      "block1_pool (MaxPooling2D)   (None, 75, 75, 64)        0         \n",
      "_________________________________________________________________\n",
      "block2_conv1 (Conv2D)        (None, 75, 75, 128)       73856     \n",
      "_________________________________________________________________\n",
      "block2_conv2 (Conv2D)        (None, 75, 75, 128)       147584    \n",
      "_________________________________________________________________\n",
      "block2_pool (MaxPooling2D)   (None, 37, 37, 128)       0         \n",
      "_________________________________________________________________\n",
      "block3_conv1 (Conv2D)        (None, 37, 37, 256)       295168    \n",
      "_________________________________________________________________\n",
      "block3_conv2 (Conv2D)        (None, 37, 37, 256)       590080    \n",
      "_________________________________________________________________\n",
      "block3_conv3 (Conv2D)        (None, 37, 37, 256)       590080    \n",
      "_________________________________________________________________\n",
      "block3_pool (MaxPooling2D)   (None, 18, 18, 256)       0         \n",
      "_________________________________________________________________\n",
      "block4_conv1 (Conv2D)        (None, 18, 18, 512)       1180160   \n",
      "_________________________________________________________________\n",
      "block4_conv2 (Conv2D)        (None, 18, 18, 512)       2359808   \n",
      "_________________________________________________________________\n",
      "block4_conv3 (Conv2D)        (None, 18, 18, 512)       2359808   \n",
      "_________________________________________________________________\n",
      "block4_pool (MaxPooling2D)   (None, 9, 9, 512)         0         \n",
      "_________________________________________________________________\n",
      "block5_conv1 (Conv2D)        (None, 9, 9, 512)         2359808   \n",
      "_________________________________________________________________\n",
      "block5_conv2 (Conv2D)        (None, 9, 9, 512)         2359808   \n",
      "_________________________________________________________________\n",
      "block5_conv3 (Conv2D)        (None, 9, 9, 512)         2359808   \n",
      "_________________________________________________________________\n",
      "block5_pool (MaxPooling2D)   (None, 4, 4, 512)         0         \n",
      "=================================================================\n",
      "Total params: 14,714,688\n",
      "Trainable params: 14,714,688\n",
      "Non-trainable params: 0\n",
      "_________________________________________________________________\n",
      "Model: \"vgg16\"\n",
      "_________________________________________________________________\n",
      "Layer (type)                 Output Shape              Param #   \n",
      "=================================================================\n",
      "input_1 (InputLayer)         [(None, 150, 150, 3)]     0         \n",
      "_________________________________________________________________\n",
      "block1_conv1 (Conv2D)        (None, 150, 150, 64)      1792      \n",
      "_________________________________________________________________\n",
      "block1_conv2 (Conv2D)        (None, 150, 150, 64)      36928     \n",
      "_________________________________________________________________\n",
      "block1_pool (MaxPooling2D)   (None, 75, 75, 64)        0         \n",
      "_________________________________________________________________\n",
      "block2_conv1 (Conv2D)        (None, 75, 75, 128)       73856     \n",
      "_________________________________________________________________\n",
      "block2_conv2 (Conv2D)        (None, 75, 75, 128)       147584    \n",
      "_________________________________________________________________\n",
      "block2_pool (MaxPooling2D)   (None, 37, 37, 128)       0         \n",
      "_________________________________________________________________\n",
      "block3_conv1 (Conv2D)        (None, 37, 37, 256)       295168    \n",
      "_________________________________________________________________\n",
      "block3_conv2 (Conv2D)        (None, 37, 37, 256)       590080    \n",
      "_________________________________________________________________\n",
      "block3_conv3 (Conv2D)        (None, 37, 37, 256)       590080    \n",
      "_________________________________________________________________\n",
      "block3_pool (MaxPooling2D)   (None, 18, 18, 256)       0         \n",
      "_________________________________________________________________\n",
      "block4_conv1 (Conv2D)        (None, 18, 18, 512)       1180160   \n",
      "_________________________________________________________________\n",
      "block4_conv2 (Conv2D)        (None, 18, 18, 512)       2359808   \n",
      "_________________________________________________________________\n",
      "block4_conv3 (Conv2D)        (None, 18, 18, 512)       2359808   \n",
      "_________________________________________________________________\n",
      "block4_pool (MaxPooling2D)   (None, 9, 9, 512)         0         \n",
      "_________________________________________________________________\n",
      "block5_conv1 (Conv2D)        (None, 9, 9, 512)         2359808   \n",
      "_________________________________________________________________\n",
      "block5_conv2 (Conv2D)        (None, 9, 9, 512)         2359808   \n",
      "_________________________________________________________________\n",
      "block5_conv3 (Conv2D)        (None, 9, 9, 512)         2359808   \n",
      "_________________________________________________________________\n",
      "block5_pool (MaxPooling2D)   (None, 4, 4, 512)         0         \n",
      "=================================================================\n",
      "Total params: 14,714,688\n",
      "Trainable params: 0\n",
      "Non-trainable params: 14,714,688\n",
      "_________________________________________________________________\n"
     ]
    }
   ],
   "source": [
    "pre_trained_model = VGG16(input_shape = (150, 150, 3), \n",
    "                                include_top = False, \n",
    "                                weights = 'imagenet')"
   ]
  },
  {
   "cell_type": "markdown",
   "metadata": {},
   "source": [
    "Con el método ``summary()`` podemos saber el detalle de la arquitectura de la base convolucional VGG16:"
   ]
  },
  {
   "cell_type": "code",
   "execution_count": null,
   "metadata": {},
   "outputs": [],
   "source": [
    "pre_trained_model.summary()"
   ]
  },
  {
   "cell_type": "markdown",
   "metadata": {},
   "source": [
    "Si comparamos con la red neuronal VGG16 completa, se puede comprobar que no existen las dos capas finales fully-connected de 4096 neuronas ni la de 1000 neuronas (cada una de estas neuronas representa una de las categorías de imágenes de ImageNet), las cuales no incluten con el valor **``False``** del argumento ``include_top``\n",
    "\n",
    "No se necesitan las últimas capas (que son el clasificador de VGG16) porque se crearán unas propias para construir un clasificador y predecir si las imágenes serán un perro o un gato a partir del último feature map de forma y tamaño (4, 4, 512) que nos devuelve la base convolucional VGG16"
   ]
  },
  {
   "cell_type": "markdown",
   "metadata": {},
   "source": [
    "Importante: Antes de entrenar el modelo es necesario indicar cual de las capas de la base convolucional no deben ser entrenadas, lo que se denomina «congelar» capas (Freeze layers).\n",
    "\n",
    "Congelar una capa o un conjunto de capas significa evitar que sus pesos se actualicen durante el entrenamiento.\n",
    "* Si no se hiciera esto, los valores que fueron previamente aprendidos por la base convolucional serían modificados durante el entrenamiento, efecto que no se busca.\n",
    "* En Keras, congelar una capa se realiza estableciendo su atributo trainable a False:"
   ]
  },
  {
   "cell_type": "code",
   "execution_count": null,
   "metadata": {},
   "outputs": [],
   "source": [
    "for layer in pre_trained_model.layers:\n",
    "    layer.trainable = False\n",
    "\n",
    "pre_trained_model.summary()"
   ]
  },
  {
   "cell_type": "markdown",
   "metadata": {},
   "source": [
    "En Keras los modelos los podemos considerar como capas y, por tanto, podemos agregar un modelo (como pre_trained_model) a un modelo secuencial al igual que agregaríamos una capa:"
   ]
  },
  {
   "cell_type": "code",
   "execution_count": 0,
   "metadata": {
    "colab": {},
    "colab_type": "code",
    "id": "LSbSk4CKd4ev"
   },
   "outputs": [],
   "source": [
    "from tensorflow.keras import Model\n",
    "\n",
    "from tensorflow.keras import Sequential\n",
    "from tensorflow.keras.layers import Conv2D, MaxPooling2D, Flatten, Dense"
   ]
  },
  {
   "cell_type": "code",
   "execution_count": null,
   "metadata": {},
   "outputs": [],
   "source": [
    "modelFE = Sequential()\n",
    "modelFE.add(pre_trained_model)\n",
    "modelFE.add(Flatten())\n",
    "modelFE.add(Dense(256, activation='relu'))\n",
    "modelFE.add(Dense(1, activation='sigmoid'))"
   ]
  },
  {
   "cell_type": "markdown",
   "metadata": {},
   "source": [
    "Así es como el método summary() presenta la red neuronal que se acaba de construir:"
   ]
  },
  {
   "cell_type": "code",
   "execution_count": 0,
   "metadata": {
    "colab": {
     "base_uri": "https://localhost:8080/",
     "height": 286
    },
    "colab_type": "code",
    "id": "p1KRETLXuHpZ",
    "outputId": "22ba0523-964b-446d-b92d-a6e71348524c"
   },
   "outputs": [
    {
     "name": "stdout",
     "output_type": "stream",
     "text": [
      "Model: \"sequential_1\"\n",
      "_________________________________________________________________\n",
      "Layer (type)                 Output Shape              Param #   \n",
      "=================================================================\n",
      "vgg16 (Model)                (None, 4, 4, 512)         14714688  \n",
      "_________________________________________________________________\n",
      "flatten_1 (Flatten)          (None, 8192)              0         \n",
      "_________________________________________________________________\n",
      "dense_2 (Dense)              (None, 256)               2097408   \n",
      "_________________________________________________________________\n",
      "dense_3 (Dense)              (None, 1)                 257       \n",
      "=================================================================\n",
      "Total params: 16,812,353\n",
      "Trainable params: 2,097,665\n",
      "Non-trainable params: 14,714,688\n",
      "_________________________________________________________________\n"
     ]
    }
   ],
   "source": [
    "modelFE.summary()"
   ]
  },
  {
   "cell_type": "markdown",
   "metadata": {},
   "source": [
    "Realizamos el preprocesado de **Data Augmentation**"
   ]
  },
  {
   "cell_type": "code",
   "execution_count": 0,
   "metadata": {
    "colab": {
     "base_uri": "https://localhost:8080/",
     "height": 67
    },
    "colab_type": "code",
    "id": "InQuF32GiBRP",
    "outputId": "281d6e22-3a80-40ad-b00a-7c8b9c14a604"
   },
   "outputs": [
    {
     "name": "stdout",
     "output_type": "stream",
     "text": [
      "Found 2000 images belonging to 2 classes.\n",
      "Found 1000 images belonging to 2 classes.\n",
      "Found 1000 images belonging to 2 classes.\n"
     ]
    }
   ],
   "source": [
    "\n",
    "from tensorflow.keras.preprocessing.image import ImageDataGenerator\n",
    "\n",
    "train_datagen = ImageDataGenerator(\n",
    "      rescale=1./255,\n",
    "      rotation_range=40,\n",
    "      width_shift_range=0.2,\n",
    "      height_shift_range=0.2,\n",
    "      shear_range=0.2,\n",
    "      zoom_range=0.2,\n",
    "      horizontal_flip=True,\n",
    "      fill_mode='nearest')\n",
    "\n",
    "validation_datagen  = ImageDataGenerator( rescale = 1.0/255. )\n",
    "test_datagen  = ImageDataGenerator( rescale = 1.0/255. )\n",
    "\n",
    "\n",
    "train_generator = train_datagen.flow_from_directory(train_dir,\n",
    "                                                    batch_size=20,\n",
    "                                                    class_mode='binary',\n",
    "                                                    target_size=(150, 150))     \n",
    "\n",
    "validation_generator =  validation_datagen.flow_from_directory(validation_dir,\n",
    "                                                         batch_size=20,\n",
    "                                                         class_mode  = 'binary',\n",
    "                                                         target_size = (150, 150))\n",
    "\n",
    "test_generator =  test_datagen.flow_from_directory(validation_dir,\n",
    "                                                         batch_size=20,\n",
    "                                                         class_mode  = 'binary',\n",
    "                                                         target_size = (150, 150))"
   ]
  },
  {
   "cell_type": "markdown",
   "metadata": {},
   "source": [
    "Se compila red utilizando los mismos parametros anteriores"
   ]
  },
  {
   "cell_type": "code",
   "execution_count": 0,
   "metadata": {
    "colab": {
     "base_uri": "https://localhost:8080/",
     "height": 1000
    },
    "colab_type": "code",
    "id": "DCSzluJsiBXA",
    "outputId": "144b618b-3155-47d4-d24c-0cc0364246ee"
   },
   "outputs": [
    {
     "name": "stdout",
     "output_type": "stream",
     "text": [
      "WARNING:tensorflow:sample_weight modes were coerced from\n",
      "  ...\n",
      "    to  \n",
      "  ['...']\n",
      "WARNING:tensorflow:sample_weight modes were coerced from\n",
      "  ...\n",
      "    to  \n",
      "  ['...']\n",
      "Train for 100 steps, validate for 50 steps\n",
      "Epoch 1/100\n",
      "100/100 - 18s - loss: 0.5224 - acc: 0.7305 - val_loss: 0.3127 - val_acc: 0.8760\n",
      "Epoch 2/100\n",
      "100/100 - 17s - loss: 0.4142 - acc: 0.8045 - val_loss: 0.3264 - val_acc: 0.8460\n",
      "Epoch 3/100\n",
      "100/100 - 17s - loss: 0.3801 - acc: 0.8285 - val_loss: 0.2664 - val_acc: 0.8930\n",
      "Epoch 4/100\n",
      "100/100 - 16s - loss: 0.3718 - acc: 0.8265 - val_loss: 0.3015 - val_acc: 0.8660\n",
      "Epoch 5/100\n",
      "100/100 - 17s - loss: 0.3528 - acc: 0.8425 - val_loss: 0.2664 - val_acc: 0.8900\n",
      "Epoch 6/100\n",
      "100/100 - 17s - loss: 0.3309 - acc: 0.8490 - val_loss: 0.2611 - val_acc: 0.8930\n",
      "Epoch 7/100\n",
      "100/100 - 17s - loss: 0.3309 - acc: 0.8470 - val_loss: 0.2519 - val_acc: 0.9000\n",
      "Epoch 8/100\n",
      "100/100 - 17s - loss: 0.3192 - acc: 0.8510 - val_loss: 0.2597 - val_acc: 0.8990\n",
      "Epoch 9/100\n",
      "100/100 - 16s - loss: 0.3211 - acc: 0.8610 - val_loss: 0.2968 - val_acc: 0.8820\n",
      "Epoch 10/100\n",
      "100/100 - 17s - loss: 0.3182 - acc: 0.8520 - val_loss: 0.2802 - val_acc: 0.8770\n",
      "Epoch 11/100\n",
      "100/100 - 17s - loss: 0.3069 - acc: 0.8665 - val_loss: 0.2508 - val_acc: 0.9000\n",
      "Epoch 12/100\n",
      "100/100 - 16s - loss: 0.3050 - acc: 0.8570 - val_loss: 0.2420 - val_acc: 0.9020\n",
      "Epoch 13/100\n",
      "100/100 - 17s - loss: 0.2890 - acc: 0.8735 - val_loss: 0.2642 - val_acc: 0.8990\n",
      "Epoch 14/100\n",
      "100/100 - 17s - loss: 0.2938 - acc: 0.8690 - val_loss: 0.2388 - val_acc: 0.9110\n",
      "Epoch 15/100\n",
      "100/100 - 17s - loss: 0.2969 - acc: 0.8545 - val_loss: 0.2383 - val_acc: 0.9100\n",
      "Epoch 16/100\n",
      "100/100 - 16s - loss: 0.2899 - acc: 0.8740 - val_loss: 0.2494 - val_acc: 0.8970\n",
      "Epoch 17/100\n",
      "100/100 - 17s - loss: 0.2925 - acc: 0.8690 - val_loss: 0.2448 - val_acc: 0.8970\n",
      "Epoch 18/100\n",
      "100/100 - 17s - loss: 0.2780 - acc: 0.8790 - val_loss: 0.2466 - val_acc: 0.8990\n",
      "Epoch 19/100\n",
      "100/100 - 17s - loss: 0.2762 - acc: 0.8770 - val_loss: 0.2463 - val_acc: 0.9050\n",
      "Epoch 20/100\n",
      "100/100 - 17s - loss: 0.2725 - acc: 0.8815 - val_loss: 0.2621 - val_acc: 0.8940\n",
      "Epoch 21/100\n",
      "100/100 - 17s - loss: 0.2764 - acc: 0.8835 - val_loss: 0.2422 - val_acc: 0.9080\n",
      "Epoch 22/100\n",
      "100/100 - 17s - loss: 0.2819 - acc: 0.8740 - val_loss: 0.2406 - val_acc: 0.9040\n",
      "Epoch 23/100\n",
      "100/100 - 16s - loss: 0.2694 - acc: 0.8795 - val_loss: 0.2961 - val_acc: 0.8810\n",
      "Epoch 24/100\n",
      "100/100 - 17s - loss: 0.2659 - acc: 0.8890 - val_loss: 0.2355 - val_acc: 0.9050\n",
      "Epoch 25/100\n",
      "100/100 - 17s - loss: 0.2626 - acc: 0.8895 - val_loss: 0.2456 - val_acc: 0.9080\n",
      "Epoch 26/100\n",
      "100/100 - 16s - loss: 0.2731 - acc: 0.8810 - val_loss: 0.2455 - val_acc: 0.9020\n",
      "Epoch 27/100\n",
      "100/100 - 17s - loss: 0.2747 - acc: 0.8735 - val_loss: 0.2460 - val_acc: 0.9050\n",
      "Epoch 28/100\n",
      "100/100 - 17s - loss: 0.2494 - acc: 0.8955 - val_loss: 0.3223 - val_acc: 0.8730\n",
      "Epoch 29/100\n",
      "100/100 - 17s - loss: 0.2479 - acc: 0.8945 - val_loss: 0.2523 - val_acc: 0.9000\n",
      "Epoch 30/100\n",
      "100/100 - 17s - loss: 0.2500 - acc: 0.8915 - val_loss: 0.2591 - val_acc: 0.9010\n",
      "Epoch 31/100\n",
      "100/100 - 17s - loss: 0.2456 - acc: 0.8955 - val_loss: 0.3038 - val_acc: 0.8800\n",
      "Epoch 32/100\n",
      "100/100 - 16s - loss: 0.2546 - acc: 0.8930 - val_loss: 0.2566 - val_acc: 0.8910\n",
      "Epoch 33/100\n",
      "100/100 - 17s - loss: 0.2311 - acc: 0.9045 - val_loss: 0.2710 - val_acc: 0.8930\n",
      "Epoch 34/100\n",
      "100/100 - 17s - loss: 0.2561 - acc: 0.8940 - val_loss: 0.2574 - val_acc: 0.9010\n",
      "Epoch 35/100\n",
      "100/100 - 17s - loss: 0.2511 - acc: 0.8930 - val_loss: 0.2481 - val_acc: 0.9060\n",
      "Epoch 36/100\n",
      "100/100 - 17s - loss: 0.2480 - acc: 0.8920 - val_loss: 0.2529 - val_acc: 0.9070\n",
      "Epoch 37/100\n",
      "100/100 - 17s - loss: 0.2393 - acc: 0.8920 - val_loss: 0.2538 - val_acc: 0.9110\n",
      "Epoch 38/100\n",
      "100/100 - 17s - loss: 0.2293 - acc: 0.8995 - val_loss: 0.2819 - val_acc: 0.8850\n",
      "Epoch 39/100\n",
      "100/100 - 17s - loss: 0.2378 - acc: 0.8960 - val_loss: 0.2818 - val_acc: 0.8870\n",
      "Epoch 40/100\n",
      "100/100 - 17s - loss: 0.2163 - acc: 0.9115 - val_loss: 0.2664 - val_acc: 0.9050\n",
      "Epoch 41/100\n",
      "100/100 - 17s - loss: 0.2371 - acc: 0.9000 - val_loss: 0.2547 - val_acc: 0.9010\n",
      "Epoch 42/100\n",
      "100/100 - 17s - loss: 0.2269 - acc: 0.9010 - val_loss: 0.2698 - val_acc: 0.9040\n",
      "Epoch 43/100\n",
      "100/100 - 17s - loss: 0.2164 - acc: 0.9095 - val_loss: 0.3055 - val_acc: 0.8870\n",
      "Epoch 44/100\n",
      "100/100 - 17s - loss: 0.2326 - acc: 0.9010 - val_loss: 0.2480 - val_acc: 0.9100\n",
      "Epoch 45/100\n",
      "100/100 - 16s - loss: 0.2409 - acc: 0.8930 - val_loss: 0.2517 - val_acc: 0.9060\n",
      "Epoch 46/100\n",
      "100/100 - 17s - loss: 0.2312 - acc: 0.9060 - val_loss: 0.2547 - val_acc: 0.9060\n",
      "Epoch 47/100\n",
      "100/100 - 16s - loss: 0.2216 - acc: 0.9050 - val_loss: 0.2643 - val_acc: 0.9080\n",
      "Epoch 48/100\n",
      "100/100 - 17s - loss: 0.2105 - acc: 0.9145 - val_loss: 0.2713 - val_acc: 0.9050\n",
      "Epoch 49/100\n",
      "100/100 - 17s - loss: 0.2278 - acc: 0.9095 - val_loss: 0.2650 - val_acc: 0.9010\n",
      "Epoch 50/100\n",
      "100/100 - 16s - loss: 0.2086 - acc: 0.9135 - val_loss: 0.2726 - val_acc: 0.9070\n",
      "Epoch 51/100\n",
      "100/100 - 17s - loss: 0.2236 - acc: 0.9010 - val_loss: 0.2634 - val_acc: 0.9000\n",
      "Epoch 52/100\n",
      "100/100 - 17s - loss: 0.2230 - acc: 0.9055 - val_loss: 0.2794 - val_acc: 0.8990\n",
      "Epoch 53/100\n",
      "100/100 - 16s - loss: 0.2044 - acc: 0.9095 - val_loss: 0.2648 - val_acc: 0.9050\n",
      "Epoch 54/100\n",
      "100/100 - 16s - loss: 0.2108 - acc: 0.9025 - val_loss: 0.2774 - val_acc: 0.9060\n",
      "Epoch 55/100\n",
      "100/100 - 16s - loss: 0.2070 - acc: 0.9190 - val_loss: 0.2921 - val_acc: 0.8960\n",
      "Epoch 56/100\n",
      "100/100 - 17s - loss: 0.2114 - acc: 0.9090 - val_loss: 0.2777 - val_acc: 0.9050\n",
      "Epoch 57/100\n",
      "100/100 - 17s - loss: 0.2309 - acc: 0.8990 - val_loss: 0.2657 - val_acc: 0.9060\n",
      "Epoch 58/100\n",
      "100/100 - 17s - loss: 0.2173 - acc: 0.9115 - val_loss: 0.3220 - val_acc: 0.8870\n",
      "Epoch 59/100\n",
      "100/100 - 17s - loss: 0.2098 - acc: 0.9090 - val_loss: 0.2770 - val_acc: 0.9000\n",
      "Epoch 60/100\n",
      "100/100 - 17s - loss: 0.1998 - acc: 0.9090 - val_loss: 0.2688 - val_acc: 0.9050\n",
      "Epoch 61/100\n",
      "100/100 - 17s - loss: 0.2081 - acc: 0.9125 - val_loss: 0.2705 - val_acc: 0.9120\n",
      "Epoch 62/100\n",
      "100/100 - 17s - loss: 0.2034 - acc: 0.9170 - val_loss: 0.2801 - val_acc: 0.9030\n",
      "Epoch 63/100\n",
      "100/100 - 17s - loss: 0.2043 - acc: 0.9185 - val_loss: 0.2640 - val_acc: 0.9040\n",
      "Epoch 64/100\n",
      "100/100 - 17s - loss: 0.2031 - acc: 0.9145 - val_loss: 0.2727 - val_acc: 0.9050\n",
      "Epoch 65/100\n",
      "100/100 - 16s - loss: 0.2251 - acc: 0.9030 - val_loss: 0.2661 - val_acc: 0.9060\n",
      "Epoch 66/100\n",
      "100/100 - 17s - loss: 0.2006 - acc: 0.9170 - val_loss: 0.2796 - val_acc: 0.9030\n",
      "Epoch 67/100\n",
      "100/100 - 17s - loss: 0.1956 - acc: 0.9220 - val_loss: 0.2723 - val_acc: 0.9090\n",
      "Epoch 68/100\n",
      "100/100 - 17s - loss: 0.2042 - acc: 0.9190 - val_loss: 0.2724 - val_acc: 0.9070\n",
      "Epoch 69/100\n",
      "100/100 - 17s - loss: 0.2012 - acc: 0.9160 - val_loss: 0.2789 - val_acc: 0.9080\n",
      "Epoch 70/100\n",
      "100/100 - 16s - loss: 0.2041 - acc: 0.9210 - val_loss: 0.2793 - val_acc: 0.9040\n",
      "Epoch 71/100\n"
     ]
    }
   ],
   "source": [
    "from tensorflow.keras.optimizers import RMSprop\n",
    "\n",
    "modelFE.compile(loss='binary_crossentropy',\n",
    "              optimizer=RMSprop(lr=1e-4),\n",
    "              metrics=['acc'])"
   ]
  },
  {
   "cell_type": "markdown",
   "metadata": {},
   "source": [
    "Se comienza a entrenar el modelo con el método ``fit()``, con la misma configuración de Data Augmentation que utilizamos en la sección anterior.\n",
    "\n",
    "Pero no es necesariamente siempre la mejor opción; la mejor combinación de técnicas depende del tipo y cantidad de datos disponibles."
   ]
  },
  {
   "cell_type": "code",
   "execution_count": null,
   "metadata": {},
   "outputs": [],
   "source": [
    "batch_size = 20\n",
    "steps_per_epoch = train_generator.n // batch_size\n",
    "validation_steps = validation_generator.n // batch_size\n",
    "\n",
    "historyFE = modelFE.fit(\n",
    "            train_generator,\n",
    "            validation_data = validation_generator,\n",
    "            steps_per_epoch = steps_per_epoch,\n",
    "            epochs = 100,\n",
    "            validation_steps = validation_steps,\n",
    "            verbose = 2)"
   ]
  },
  {
   "cell_type": "markdown",
   "metadata": {},
   "source": [
    "Comprobar la precisión con los datos de prueba"
   ]
  },
  {
   "cell_type": "code",
   "execution_count": 0,
   "metadata": {
    "colab": {},
    "colab_type": "code",
    "id": "mcMMuw_oSRAq"
   },
   "outputs": [],
   "source": [
    "test_lost, test_acc= modelFE.evaluate(test_generator)\n",
    "print (\"Test Accuracy:\", test_acc)"
   ]
  },
  {
   "cell_type": "code",
   "execution_count": 0,
   "metadata": {
    "colab": {},
    "colab_type": "code",
    "id": "0KxNfD7QiJpU"
   },
   "outputs": [],
   "source": [
    "acc      = historyFE.history['acc']\n",
    "val_acc  = historyFE.history[ 'val_acc']\n",
    "loss     = historyFE.history['loss']\n",
    "val_loss = historyFE.history['val_loss']\n",
    "\n",
    "epochs    = range(1,len(acc)+1,1) # obtener número de epochs\n",
    "\n",
    "plt.plot  ( epochs,     acc, 'r--', label='Training acc'  )\n",
    "plt.plot  ( epochs, val_acc,  'b', label='Validation acc')\n",
    "plt.title ('Training and validation accuracy')\n",
    "plt.ylabel('acc')\n",
    "#plt.ylim(0,1)\n",
    "plt.xlabel('epochs')\n",
    "\n",
    "plt.legend()\n",
    "plt.figure()\n",
    "\n",
    "\n",
    "plt.plot  ( epochs,     loss, 'r--' )\n",
    "plt.plot  ( epochs, val_loss ,  'b' )\n",
    "plt.title ('Training and validation loss'   )\n",
    "plt.ylabel('loss')\n",
    "plt.xlabel('epochs')\n",
    "#plt.ylim(0,1)\n",
    "\n",
    "plt.legend()\n",
    "plt.figure()"
   ]
  },
  {
   "cell_type": "markdown",
   "metadata": {},
   "source": [
    "## Fine-Tuning"
   ]
  },
  {
   "cell_type": "markdown",
   "metadata": {},
   "source": [
    "Técnica ampliamente utilizada en la reutilización de modelos, complementaria a la Feature Extraction.\n",
    "Consiste en hacer un ajuste más fino y entrenar también algunas de las capas finales de la base convolucional del modelo usado para la extracción de características (que hasta ahora se mantenía congelada), y entrenar conjuntamente tanto la parte agregada del clasificador como estas capas. Esto se llama Fine-Tuning en nuestro entorno porque se trata de un «ajuste fino» de las representaciones más abstractas del modelo que se está reutilizando como base."
   ]
  },
  {
   "cell_type": "markdown",
   "metadata": {},
   "source": [
    "Recordemos que el nivel de generalización y, por lo tanto, de reutilización de las representaciones extraídas por capas de convolución específicas depende de la posición de la capa en el modelo.\n",
    "* Las primeras capas aprenden características generales y, después, gradualmente en capas sucesivas se van aprendiendo características más concretas del dominio de problema que estamos tratando.\n",
    "* Las capas del modelo que están más próximas a la capa de entrada de datos extraen mapas de características locales altamente genéricas, mientras que las capas que están más cerca del clasificador final extraen conceptos más abstractos."
   ]
  },
  {
   "cell_type": "markdown",
   "metadata": {},
   "source": [
    "Si nos fijamos en el nombre que se le asigna a las capas en la base convolucional VGG16, vemos que se compone de 5 bloques: block1, block2, block3, block4, block5.\n",
    "\n",
    "Para mostrar la técnica de Fine-Tuning se entrenará el block5 compuesto por tres capas convolucionales y una de pooling (block5_conv1, block5_conv2 y block5_conv3 serán ahora entrenables"
   ]
  },
  {
   "cell_type": "markdown",
   "metadata": {
    "colab_type": "text",
    "id": "C1ISi6Wdl4_x"
   },
   "source": [
    "### VGG16 : Modelo con *Fine Tuning*\n",
    "\n",
    "El código en Keras que permite especificar este comportamiento en la fase de entrenamiento que acabamos de describir puede ser el siguiente:"
   ]
  },
  {
   "cell_type": "code",
   "execution_count": 0,
   "metadata": {
    "colab": {},
    "colab_type": "code",
    "id": "QZfhhNnptlH0"
   },
   "outputs": [],
   "source": [
    "from tensorflow.keras.applications import VGG16\n",
    "\n",
    "pre_trained_model = VGG16(input_shape = (150, 150, 3), \n",
    "                                include_top = False, \n",
    "                                weights = 'imagenet')\n",
    "\n",
    "pre_trained_model.trainable = True\n",
    "\n",
    "set_trainable = False\n",
    "\n",
    "\n",
    "for layer in pre_trained_model.layers:\n",
    "    if layer.name == 'block5_conv1':\n",
    "        set_trainable = True\n",
    "    if set_trainable: \n",
    "        layer.trainable = True\n",
    "    else:\n",
    "        layer.trainable = False\n",
    "\n",
    "pre_trained_model.summary()"
   ]
  },
  {
   "cell_type": "markdown",
   "metadata": {},
   "source": [
    "Definamos igual que antes la red:"
   ]
  },
  {
   "cell_type": "code",
   "execution_count": 0,
   "metadata": {
    "colab": {},
    "colab_type": "code",
    "id": "xN8OOenogf3N"
   },
   "outputs": [],
   "source": [
    "modelFT = Sequential()\n",
    "modelFT.add(pre_trained_model)\n",
    "modelFT.add(Flatten())\n",
    "modelFT.add(Dense(256, activation='relu'))\n",
    "modelFT.add(Dense(1, activation='sigmoid'))"
   ]
  },
  {
   "cell_type": "markdown",
   "metadata": {},
   "source": [
    "Ahora el pre_trained_model tendrá más capas a entrenar, como podemos ver con la salida del método summary()"
   ]
  },
  {
   "cell_type": "code",
   "execution_count": null,
   "metadata": {},
   "outputs": [],
   "source": [
    "modelFT.summary()"
   ]
  },
  {
   "cell_type": "markdown",
   "metadata": {},
   "source": [
    "#### Compilación y entrenamiento de la red\n",
    "\n",
    "Se usarán los mismos hiperparámetros (optimizador RMSProp con learning rate de 1e-4), pero es importante dejar claro, para aquellos que quieran profundizar más en el tema, que estos hiperparámetros juegan un papel fundamental.\n",
    "* En general es una buena práctica usar un learning rate muy pequeño para limitar la magnitud de las modificaciones que se realizan en las tres capas del block5 que está ajustando.\n",
    "* Los learning rate que son demasiado grandes pueden dañar los pesos previos que venían de la red preentrenada, ya que mantenían información importante para representar a las características."
   ]
  },
  {
   "cell_type": "code",
   "execution_count": 0,
   "metadata": {
    "colab": {},
    "colab_type": "code",
    "id": "YuZLpjNFghlD"
   },
   "outputs": [],
   "source": [
    "from tensorflow.keras.optimizers import RMSprop\n",
    "\n",
    "modelFT.compile(loss='binary_crossentropy',\n",
    "              optimizer=RMSprop(lr=1e-4), \n",
    "              metrics=['acc'])"
   ]
  },
  {
   "cell_type": "markdown",
   "metadata": {},
   "source": [
    "Generación del conjunto de datos aumentados"
   ]
  },
  {
   "cell_type": "code",
   "execution_count": 0,
   "metadata": {
    "colab": {},
    "colab_type": "code",
    "id": "UnRIx8pDR_wq"
   },
   "outputs": [],
   "source": [
    "from tensorflow.keras.preprocessing.image import ImageDataGenerator\n",
    "\n",
    "\n",
    "train_datagen = ImageDataGenerator(\n",
    "      rescale=1./255,\n",
    "      rotation_range=40,\n",
    "      width_shift_range=0.2,\n",
    "      height_shift_range=0.2,\n",
    "      shear_range=0.2,\n",
    "      zoom_range=0.2,\n",
    "      horizontal_flip=True,\n",
    "      fill_mode='nearest')\n",
    "\n",
    "validation_datagen  = ImageDataGenerator( rescale = 1.0/255. )\n",
    "test_datagen  = ImageDataGenerator( rescale = 1.0/255. )\n",
    "\n",
    "\n",
    "train_generator = train_datagen.flow_from_directory(train_dir,\n",
    "                                                    batch_size=20,\n",
    "                                                    class_mode='binary',\n",
    "                                                    target_size=(150, 150))     \n",
    "\n",
    "validation_generator =  validation_datagen.flow_from_directory(validation_dir,\n",
    "                                                         batch_size=20,\n",
    "                                                         class_mode  = 'binary',\n",
    "                                                         target_size = (150, 150))\n",
    "\n",
    "\n",
    "test_generator =  test_datagen.flow_from_directory(validation_dir,\n",
    "                                                         batch_size=20,\n",
    "                                                         class_mode  = 'binary',\n",
    "                                                         target_size = (150, 150))"
   ]
  },
  {
   "cell_type": "markdown",
   "metadata": {},
   "source": [
    "Entrenamiento del modelo"
   ]
  },
  {
   "cell_type": "code",
   "execution_count": 0,
   "metadata": {
    "colab": {},
    "colab_type": "code",
    "id": "4fSK81y-tlLa"
   },
   "outputs": [],
   "source": [
    "batch_size = 20\n",
    "steps_per_epoch = train_generator.n // batch_size\n",
    "validation_steps = validation_generator.n // batch_size\n",
    "\n",
    "historyFT = modelFT.fit(\n",
    "    train_generator,\n",
    "    validation_data = validation_generator,\n",
    "    steps_per_epoch = steps_per_epoch,\n",
    "    epochs = 100,\n",
    "    validation_steps = validation_steps,\n",
    "    verbose = 2)"
   ]
  },
  {
   "cell_type": "markdown",
   "metadata": {},
   "source": [
    "Igual que en los anteriores modelos, se verifica gráficamente cómo evoluciona el entrenamiento en las gráficas"
   ]
  },
  {
   "cell_type": "code",
   "execution_count": 0,
   "metadata": {
    "colab": {},
    "colab_type": "code",
    "id": "xnJPyi2KtlW5"
   },
   "outputs": [],
   "source": [
    "import matplotlib.pyplot as plt\n",
    "\n",
    "acc      = historyFT.history['acc']\n",
    "val_acc  = historyFT.history['val_acc']\n",
    "loss     = historyFT.history['loss']\n",
    "val_loss = historyFT.history['val_loss']\n",
    "\n",
    "epochs    = range(1,len(acc)+1,1) # obtener número de epochs\n",
    "\n",
    "plt.plot  ( epochs,     acc, 'r--', label='Training acc'  )\n",
    "plt.plot  ( epochs, val_acc,  'b', label='Validation acc')\n",
    "plt.title ('Training and validation accuracy')\n",
    "plt.ylabel('acc')\n",
    "#plt.ylim(0,1)\n",
    "plt.xlabel('epochs')\n",
    "\n",
    "plt.legend()\n",
    "plt.figure()\n",
    "\n",
    "\n",
    "plt.plot  ( epochs,     loss, 'r--' )\n",
    "plt.plot  ( epochs, val_loss ,  'b' )\n",
    "plt.title ('Training and validation loss'   )\n",
    "plt.ylabel('loss')\n",
    "plt.xlabel('epochs')\n",
    "plt.ylim(0,1)\n",
    "\n",
    "plt.legend()\n",
    "plt.figure()"
   ]
  },
  {
   "cell_type": "markdown",
   "metadata": {},
   "source": [
    "Con los datos de pruebapara confirmar la mejora observada ya en el historial de entrenamiento"
   ]
  },
  {
   "cell_type": "code",
   "execution_count": 0,
   "metadata": {
    "colab": {},
    "colab_type": "code",
    "id": "9_0-Nfkrtlc0"
   },
   "outputs": [],
   "source": [
    "test_lost, test_acc= modelFT.evaluate(test_generator)\n",
    "print (\"Test Accuracy:\", test_acc)"
   ]
  },
  {
   "cell_type": "code",
   "execution_count": 0,
   "metadata": {
    "colab": {},
    "colab_type": "code",
    "id": "Jk6mBLCiHr2M"
   },
   "outputs": [],
   "source": [
    "accDA      = historyDA.history['acc']\n",
    "val_accDA  = historyDA.history['val_acc']\n",
    "\n",
    "accFE      = historyFE.history['acc']\n",
    "val_accFE  = historyFE.history['val_acc']\n",
    "\n",
    "accFT      = historyFT.history['acc']\n",
    "val_accFT  = historyFT.history['val_acc']\n",
    "\n",
    "epochs    = range(1,len(accDA)+1,1) \n",
    "\n",
    "plt.figure(figsize=(10,18))\n",
    "\n",
    "plt.plot  ( epochs,     accFT, 'k', label='Fine Tuning - Training acc '  )\n",
    "plt.plot  ( epochs, val_accFT,  'b', label='Fine Tuning - Validation acc ')\n",
    "\n",
    "plt.plot  ( epochs,     accFE, 'r--', label='Feature Extraction - Training acc'  )\n",
    "plt.plot  ( epochs, val_accFE,  'm--', label='Feature Extraction - Validation acc')\n",
    "\n",
    "plt.plot  ( epochs,     accDA, 'g:', label='Data Augmentation - Training acc'  )\n",
    "plt.plot  ( epochs, val_accDA,  'c:', label='Data Augmentation - Validation acc')\n",
    "\n",
    "plt.title ('Training and validation accuracy')\n",
    "plt.ylabel('acc')\n",
    "plt.ylim(0.5,1)\n",
    "plt.xlabel('epochs')\n",
    "\n",
    "\n",
    "plt.legend()\n",
    "plt.figure()"
   ]
  },
  {
   "cell_type": "markdown",
   "metadata": {},
   "source": [
    "Prueba con fotografías propias"
   ]
  },
  {
   "cell_type": "code",
   "execution_count": 0,
   "metadata": {
    "colab": {},
    "colab_type": "code",
    "id": "eEr3A3-e3bKZ"
   },
   "outputs": [],
   "source": [
    "import numpy as np\n",
    "\n",
    "from google.colab import files\n",
    "from tensorflow.keras.preprocessing import image\n",
    "\n",
    "uploaded=files.upload()\n",
    "file=list(uploaded.keys())[0]\n",
    "\n",
    "path='/content/' + file\n",
    "img=image.load_img(path, target_size=(150, 150))\n",
    "\n",
    "x=image.img_to_array(img)\n",
    "image=np.expand_dims(x, axis=0)  \n",
    "\n",
    "classes = model.predict(image)\n",
    "print(classes)\n",
    "\n",
    "plt.imshow(img)\n",
    "plt.show()\n",
    "\n",
    "if classes>0: print( fn + \" es un PERRO\")\n",
    "else: print( fn + \" es un GATO\")"
   ]
  }
 ],
 "metadata": {
  "accelerator": "GPU",
  "colab": {
   "collapsed_sections": [],
   "name": "11_DataAugmentation_y_TransferLearning.ipynb",
   "provenance": []
  },
  "kernelspec": {
   "display_name": "Python 3",
   "language": "python",
   "name": "python3"
  },
  "language_info": {
   "codemirror_mode": {
    "name": "ipython",
    "version": 3
   },
   "file_extension": ".py",
   "mimetype": "text/x-python",
   "name": "python",
   "nbconvert_exporter": "python",
   "pygments_lexer": "ipython3",
   "version": "3.7.4"
  }
 },
 "nbformat": 4,
 "nbformat_minor": 1
}
