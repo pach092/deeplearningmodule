{
 "cells": [
  {
   "cell_type": "markdown",
   "metadata": {},
   "source": [
    "<!--NAVIGATION-->\n",
    "<a href=\"https://colab.research.google.com/github/marcoteran/deeplearningmodule/blob/main/01_unsupervisedlearning_kmeans/01_unsupervisedlearning_kmeans.ipynb\" target=\"_blank\"><img align=\"left\" src=\"https://colab.research.google.com/assets/colab-badge.svg\" alt=\"Abrir en Colab\" title=\"Abrir y ejecutar en Google Colaboratory\"></a>"
   ]
  },
  {
   "cell_type": "markdown",
   "metadata": {},
   "source": [
    "### Instalar dependencias para Colab y carga del dataset\n",
    "* Ejecutar la siguiente dependencia para instlar mlutils\n",
    "* Descargar el dataset en la carpeta ``data``"
   ]
  },
  {
   "cell_type": "code",
   "execution_count": null,
   "metadata": {},
   "outputs": [],
   "source": [
    "!pip install mlutils"
   ]
  },
  {
   "cell_type": "code",
   "execution_count": null,
   "metadata": {},
   "outputs": [],
   "source": [
    "!rm -rf data/\n",
    "!rm -rf data.z*\n",
    "!drm -rf mlutils.p*\n",
    "!mkdir -p data/\n",
    "!wget https://raw.githubusercontent.com/marcoteran/deeplearningmodule/main/01_unsupervisedlearning_kmeans/mlutils.py\n",
    "!wget https://github.com/marcoteran/deeplearningmodule/raw/main/01_unsupervisedlearning_kmeans/data.zip\n",
    "!unzip data.zip\n",
    "!ls"
   ]
  },
  {
   "cell_type": "markdown",
   "metadata": {},
   "source": [
    "## Ejemplos de código\n",
    "# Aprendizaje no supervisado: Análisis de grupos con k-means"
   ]
  },
  {
   "cell_type": "markdown",
   "metadata": {},
   "source": [
    "*Name:* Marco Teran\n",
    "*E-mail:* marco.tulio.teran@gmail.com,\n",
    "[Website](http://marcoteran.github.io/),\n",
    "[Github](https://github.com/marcoteran),\n",
    "[LinkedIn](https://www.linkedin.com/in/marcoteran/)."
   ]
  },
  {
   "cell_type": "markdown",
   "metadata": {},
   "source": [
    "### Importar librerías importantes\n",
    "\n",
    "Empezamos con las importaciones estándar:"
   ]
  },
  {
   "cell_type": "code",
   "execution_count": null,
   "metadata": {},
   "outputs": [],
   "source": [
    "import warnings\n",
    "warnings.filterwarnings('ignore')\n",
    "import mlutils\n",
    "import numpy as np\n",
    "import pandas as pd\n",
    "import importlib\n",
    "importlib.reload(mlutils)\n",
    "#reload(mlutils) Python2\n",
    "\n",
    "# Visualizations\n",
    "import matplotlib.pyplot as plt\n",
    "#import seaborn as sns; sns.set()  # for plot styling\n",
    "\n",
    "# Machine learning\n",
    "from sklearn.datasets import make_blobs, make_moons\n",
    "from sklearn.cluster import KMeans, SpectralClustering, AgglomerativeClustering, DBSCAN\n",
    "from IPython.display import HTML\n",
    "from sklearn.metrics import accuracy_score\n",
    "from sklearn.metrics import confusion_matrix\n",
    "from scipy.stats import mode\n",
    "from sklearn.metrics import pairwise_distances_argmin\n",
    "\n",
    "from IPython.display import Image\n",
    "%matplotlib inline"
   ]
  },
  {
   "cell_type": "markdown",
   "metadata": {},
   "source": [
    "# ¿Qué es clustering?\n",
    "\n",
    "- **Objetivo**: agrupar objetos físicos o obstractos en clases de objetos **similares**\n",
    "- Es una tarea **NO SUPERVISADA** $\\rightarrow$ no sabemos a priorí cómo clasificar nuestros objetos\n",
    "- Es una tarea **NO COMPLETAMENTE DEFINIDA** $\\rightarrow$ ¿Cómo cuantificamos el desempeño de un resultado de clustering?\n",
    "\n",
    "- ¿Qué definición de **similitud** establecemos?\n",
    "\n",
    "**Ejemplos de aplicaciones de clustering**\n",
    "\n",
    "- Taxonomías en biología, agrupaciones por similitud biológica, o incluso genética (big data!)\n",
    "- Páginas similares para estructurar resultados de búsquedas (p.ej. La búsqueda de \"película\" podría devolver resultados agrupados por descripciones similares.\n",
    "- Segmentación de clientes o usuarios por un criterio de similitud definido.\n"
   ]
  },
  {
   "cell_type": "markdown",
   "metadata": {},
   "source": [
    "# Ejemplo 1: Agrupar objetos por semejanza con k-means"
   ]
  },
  {
   "cell_type": "markdown",
   "metadata": {},
   "source": [
    "En las secciones anteriores, hemos explorado una categoría de modelos de aprendizaje de máquinas sin supervisión: la reducción de la dimensionalidad.\n",
    "Aquí pasaremos a otra clase de modelos de aprendizaje automático no supervisado: los algoritmos de agrupamiento.\n",
    "Los algoritmos de agrupación buscan aprender, a partir de las propiedades de los datos, una división óptima o un etiquetado discreto de grupos de puntos.\n",
    "\n",
    "Muchos algoritmos de clustering están disponibles en Scikit-Learn y en otros lugares, pero quizás el más simple de entender es un algoritmo conocido como *k-means clustering*, que se implementa en ``sklearn.cluster.KMeans``."
   ]
  },
  {
   "cell_type": "markdown",
   "metadata": {},
   "source": [
    "El ejemplo se realizará con un conjunto sencilloo de datos bidimensionales"
   ]
  },
  {
   "cell_type": "code",
   "execution_count": null,
   "metadata": {},
   "outputs": [],
   "source": [
    "from sklearn.datasets import make_blobs\n",
    "\n",
    "X, y = make_blobs(n_samples=150, \n",
    "                  n_features=2, \n",
    "                  centers=3, \n",
    "                  cluster_std=0.5, \n",
    "                  shuffle=True, \n",
    "                  random_state=0)"
   ]
  },
  {
   "cell_type": "code",
   "execution_count": null,
   "metadata": {},
   "outputs": [],
   "source": [
    "import matplotlib.pyplot as plt\n",
    "\n",
    "plt.scatter(X[:, 0], X[:, 1], \n",
    "            c='white', marker='o', edgecolor='black', s=50)\n",
    "plt.grid()\n",
    "plt.tight_layout()\n",
    "#plt.savefig('images/11_01.png', dpi=300)\n",
    "plt.show()"
   ]
  },
  {
   "cell_type": "markdown",
   "metadata": {},
   "source": [
    "El conjunto de datos consiste en **150 puntos** generados de forma aleatoria y agrupados en **tres regiones** con alta densidad, que se visualizan mediante un diagrama de dispersión bidmensional"
   ]
  },
  {
   "cell_type": "markdown",
   "metadata": {},
   "source": [
    "* En las aplicaciones de agrupamiento reales no tenemos ninguna información de la categoría verdadera básica sobre las muestras\n",
    "* Nuestro objetivo es agrupar las muestras basandonos en sus semejanzas de caracteristicas"
   ]
  },
  {
   "cell_type": "markdown",
   "metadata": {},
   "source": [
    "**Algoritmo de k-means:**\n",
    "1. Selecciona aleatoriamente k centroides a partir de los puntos de muestra como centros de grupos iniciales\n",
    "2. Asigna a cada muestra al centroide más cercano $\\mu^{(j)},\\,j\\in\\{1,\\ldots,k\\}$\n",
    "3. Desplaza los centroides al centro de las muestras asignadas para ello\n",
    "4. Repite los pasos 2 y 3 hasta que las asignaciones de grupos no cambien o hasta conseguir una tolerancia definidida por el usuario o el número máximo de iteraciones\n",
    "\n",
    "**Pseudo código**\n",
    "\n",
    "    Entrada: \n",
    "        X: datos\n",
    "        k: número de clusters deseados\n",
    "        \n",
    "    Algoritmo:\n",
    "        1. Repite hasta que los k centroides no cambien:\n",
    "        2. Selecciona k centroides aleatoriamente\n",
    "        3. Establece k clusters asignado cada dato al centroide más cercano\n",
    "        4. Recalcula el centroide de cada cluster como el promedio de los datos"
   ]
  },
  {
   "cell_type": "markdown",
   "metadata": {},
   "source": [
    "* La semejanza entre objetos se mide como el opuesto a la distancia entre estos\n",
    "* Una distancia utilizada habitualmente para las muestras de agrupamiento con caracteristicas continuas es la distancia euclidiana al cuadrado entre dos puntos x y y en un espacio m-dimensional\n",
    "$$d(x,y)^2=\\sum_{j=1}^{m}{(x_j-y_j)^2}=||x-y||_2^2$$"
   ]
  },
  {
   "cell_type": "markdown",
   "metadata": {},
   "source": [
    "* En la ecuación anterior el indice $j$ se refiera a la $j^a$ dimensión (columna de carateristicas) de los puntos de muestra $x$ y $y$\n",
    "* Los superindices $i$ y $j$ se utilizaran para hacer referencia al índice de muestra y al indice de grupo respectivamente"
   ]
  },
  {
   "cell_type": "markdown",
   "metadata": {},
   "source": [
    "El algoritmo k-meas en un algoritmo de optimización que consiste en un método iterativo para minimizar la *Suma de errores cuadraticos (SSE)* dentro del grupo (inercia del grupo)"
   ]
  },
  {
   "cell_type": "markdown",
   "metadata": {},
   "source": [
    "$$ SSE=\\sum_{i=1}^{n}{\\sum_{j=1}^{k}{w^{(i,j)} ||x^{(i)}-\\mu^{(j)}||_2^2}}$$"
   ]
  },
  {
   "cell_type": "markdown",
   "metadata": {},
   "source": [
    "El algoritmo se implementa en ``scikit-learn`` mediante la clase ``KMeans`` del módulo ``cluster``"
   ]
  },
  {
   "cell_type": "code",
   "execution_count": null,
   "metadata": {},
   "outputs": [],
   "source": [
    "from sklearn.cluster import KMeans"
   ]
  },
  {
   "cell_type": "code",
   "execution_count": null,
   "metadata": {},
   "outputs": [],
   "source": [
    "km = KMeans(n_clusters=3, \n",
    "            init='random', \n",
    "            n_init=10, \n",
    "            max_iter=300,\n",
    "            tol=1e-04,\n",
    "            random_state=0)\n",
    "y_km = km.fit_predict(X)"
   ]
  },
  {
   "cell_type": "markdown",
   "metadata": {},
   "source": [
    "* Se establece el numero de grupos deseados en $3$\n",
    "* La especificación del número de grupos es una de las limitaciones de k-means\n",
    "* ``n_init=10`` se especifica para ejecutar el algoritmo de agrupamiento k-menas 10 veces independiemente con centroidos aleatorios para elegir el modelo final con el SSE más bajo\n",
    "* ``max_iter=300`` especifica el numero de iteraciones máxima para cada ejecución única\n",
    "* La implementación de k-means se detiene si converge antes de llegar al numero máximo iteraciones\n",
    "* ``tol`` es el parametro de tolerancia que controla los cambios en la suma de errores cuadraticos dentro del grupo de convergencia: entre más alto, menos sensibilidad ala convergencia y más rápidos"
   ]
  },
  {
   "cell_type": "markdown",
   "metadata": {},
   "source": [
    "* Uno o más grupos pueden quedar vacios\n",
    "* A estos grupos son asignados las muesras ubicadas en los puntos más lejanos\n",
    "* Es necesario que los datos reales utlicen la misma metrica, es decir, se encuentren en la misma escala: Aplicar estandarización"
   ]
  },
  {
   "cell_type": "markdown",
   "metadata": {},
   "source": [
    "Despues de predecir las etiquetas $y_{km}$, podemos verificar los grupos que k-means ha identidicado en el conjunto de datos junto a los centroides de los grupos"
   ]
  },
  {
   "cell_type": "markdown",
   "metadata": {},
   "source": [
    "Estos se encuentran almacenados en el atributo cluster_centrers_ del objeto KMeans ajustado"
   ]
  },
  {
   "cell_type": "code",
   "execution_count": null,
   "metadata": {},
   "outputs": [],
   "source": [
    "plt.scatter(X[y_km == 0, 0],\n",
    "            X[y_km == 0, 1],\n",
    "            s=50, c='lightgreen',\n",
    "            marker='s', edgecolor='black',\n",
    "            label='cluster 1')\n",
    "plt.scatter(X[y_km == 1, 0],\n",
    "            X[y_km == 1, 1],\n",
    "            s=50, c='orange',\n",
    "            marker='o', edgecolor='black',\n",
    "            label='cluster 2')\n",
    "plt.scatter(X[y_km == 2, 0],\n",
    "            X[y_km == 2, 1],\n",
    "            s=50, c='lightblue',\n",
    "            marker='v', edgecolor='black',\n",
    "            label='cluster 3')\n",
    "plt.scatter(km.cluster_centers_[:, 0],\n",
    "            km.cluster_centers_[:, 1],\n",
    "            s=250, marker='*',\n",
    "            c='red', edgecolor='black',\n",
    "            label='centroides')\n",
    "plt.legend(scatterpoints=1)\n",
    "plt.grid()\n",
    "plt.tight_layout()\n",
    "#plt.savefig('images/11_02.png', dpi=300)\n",
    "plt.show()"
   ]
  },
  {
   "cell_type": "markdown",
   "metadata": {},
   "source": [
    "Diagrama de dispersión: k-means ha situado los centroides en el centro de cada esfera"
   ]
  },
  {
   "cell_type": "markdown",
   "metadata": {},
   "source": [
    "## Método del codo *elbow* para encontrar el número optimo de grupos"
   ]
  },
  {
   "cell_type": "code",
   "execution_count": null,
   "metadata": {},
   "outputs": [],
   "source": [
    "print('Inercia del cluster: %.2f' % km.inertia_)"
   ]
  },
  {
   "cell_type": "code",
   "execution_count": null,
   "metadata": {},
   "outputs": [],
   "source": [
    "distortions = []\n",
    "for i in range(1, 11):\n",
    "    km = KMeans(n_clusters=i, \n",
    "                init='k-means++', \n",
    "                n_init=10, \n",
    "                max_iter=300, \n",
    "                random_state=0)\n",
    "    km.fit(X)\n",
    "    distortions.append(km.inertia_)\n",
    "plt.plot(range(1, 11), distortions, marker='o')\n",
    "plt.xlabel('Número de clusters')\n",
    "plt.ylabel('Inercia del cluster')\n",
    "plt.tight_layout()\n",
    "#plt.savefig('./figures/elbow.png', dpi=300)\n",
    "plt.show()"
   ]
  },
  {
   "cell_type": "markdown",
   "metadata": {},
   "source": [
    "Dela gráfica anterior se peude aprecuas que para k=3 hay una buena opción de agrupamiento de datos"
   ]
  },
  {
   "cell_type": "markdown",
   "metadata": {},
   "source": [
    "## Cuantificar la calidad del agrupamiento mediante gráficos de silueta"
   ]
  },
  {
   "cell_type": "markdown",
   "metadata": {},
   "source": [
    "En el siguiente gráfico generamos los coeficientes de silueta para un agrupamiento de k-means con k=3"
   ]
  },
  {
   "cell_type": "code",
   "execution_count": null,
   "metadata": {},
   "outputs": [],
   "source": [
    "import numpy as np\n",
    "from matplotlib import cm\n",
    "from sklearn.metrics import silhouette_samples\n",
    "\n",
    "km = KMeans(n_clusters=3, \n",
    "            init='k-means++', \n",
    "            n_init=10, \n",
    "            max_iter=300,\n",
    "            tol=1e-04,\n",
    "            random_state=0)\n",
    "y_km = km.fit_predict(X)\n",
    "\n",
    "cluster_labels = np.unique(y_km)\n",
    "n_clusters = cluster_labels.shape[0]\n",
    "silhouette_vals = silhouette_samples(X, y_km, metric='euclidean')\n",
    "y_ax_lower, y_ax_upper = 0, 0\n",
    "yticks = []\n",
    "for i, c in enumerate(cluster_labels):\n",
    "    c_silhouette_vals = silhouette_vals[y_km == c]\n",
    "    c_silhouette_vals.sort()\n",
    "    y_ax_upper += len(c_silhouette_vals)\n",
    "    color = cm.jet(float(i) / n_clusters)\n",
    "    plt.barh(range(y_ax_lower, y_ax_upper), c_silhouette_vals, height=1.0, \n",
    "             edgecolor='none', color=color)\n",
    "\n",
    "    yticks.append((y_ax_lower + y_ax_upper) / 2.)\n",
    "    y_ax_lower += len(c_silhouette_vals)\n",
    "    \n",
    "silhouette_avg = np.mean(silhouette_vals)\n",
    "plt.axvline(silhouette_avg, color=\"red\", linestyle=\"--\") \n",
    "\n",
    "plt.yticks(yticks, cluster_labels + 1)\n",
    "plt.ylabel('Cluster')\n",
    "plt.xlabel('Coeficiente de silueta')\n",
    "\n",
    "plt.tight_layout()\n",
    "# plt.savefig('./figures/silhouette.png', dpi=300)\n",
    "plt.show()"
   ]
  },
  {
   "cell_type": "markdown",
   "metadata": {},
   "source": [
    "A partir de la grafica anterior se pueden obervar los tamaños de los dieferentes grupos e identidicar aquellso que continuen outlieres"
   ]
  },
  {
   "cell_type": "markdown",
   "metadata": {},
   "source": [
    "La línea punteada es el coeficiente de silueta promedio"
   ]
  },
  {
   "cell_type": "markdown",
   "metadata": {},
   "source": [
    "### Comparación con un gráfico de silueta malo: algoritmo k-meas evaluado para dos centroides"
   ]
  },
  {
   "cell_type": "code",
   "execution_count": null,
   "metadata": {},
   "outputs": [],
   "source": [
    "km = KMeans(n_clusters=2,\n",
    "            init='k-means++',\n",
    "            n_init=10,\n",
    "            max_iter=300,\n",
    "            tol=1e-04,\n",
    "            random_state=0)\n",
    "y_km = km.fit_predict(X)\n",
    "\n",
    "plt.scatter(X[y_km == 0, 0],\n",
    "            X[y_km == 0, 1],\n",
    "            s=50,\n",
    "            c='lightgreen',\n",
    "            marker='s',\n",
    "            label='cluster 1')\n",
    "plt.scatter(X[y_km == 1, 0],\n",
    "            X[y_km == 1, 1],\n",
    "            s=50,\n",
    "            c='orange',\n",
    "            marker='o',\n",
    "            label='cluster 2')\n",
    "\n",
    "plt.scatter(km.cluster_centers_[:, 0], km.cluster_centers_[:, 1],\n",
    "            s=250, marker='*', c='red', label='centroides')\n",
    "plt.legend()\n",
    "plt.grid()\n",
    "plt.tight_layout()\n",
    "#plt.savefig('./figures/centroids_bad.png', dpi=300)\n",
    "plt.show()"
   ]
  },
  {
   "cell_type": "markdown",
   "metadata": {},
   "source": [
    "Uno de los centroides cae entre dos de los 3 agrupamientos\n",
    "No es completamente terrible pero es insuficiente"
   ]
  },
  {
   "cell_type": "code",
   "execution_count": null,
   "metadata": {},
   "outputs": [],
   "source": [
    "cluster_labels = np.unique(y_km)\n",
    "n_clusters = cluster_labels.shape[0]\n",
    "silhouette_vals = silhouette_samples(X, y_km, metric='euclidean')\n",
    "y_ax_lower, y_ax_upper = 0, 0\n",
    "yticks = []\n",
    "for i, c in enumerate(cluster_labels):\n",
    "    c_silhouette_vals = silhouette_vals[y_km == c]\n",
    "    c_silhouette_vals.sort()\n",
    "    y_ax_upper += len(c_silhouette_vals)\n",
    "    color = cm.jet(float(i) / n_clusters)\n",
    "    plt.barh(range(y_ax_lower, y_ax_upper), c_silhouette_vals, height=1.0, \n",
    "             edgecolor='none', color=color)\n",
    "\n",
    "    yticks.append((y_ax_lower + y_ax_upper) / 2.)\n",
    "    y_ax_lower += len(c_silhouette_vals)\n",
    "    \n",
    "silhouette_avg = np.mean(silhouette_vals)\n",
    "plt.axvline(silhouette_avg, color=\"red\", linestyle=\"--\") \n",
    "\n",
    "plt.yticks(yticks, cluster_labels + 1)\n",
    "plt.ylabel('Cluster')\n",
    "plt.xlabel('Silhouette coefficient')\n",
    "\n",
    "plt.tight_layout()\n",
    "# plt.savefig('./figures/silhouette_bad.png', dpi=300)\n",
    "plt.show()"
   ]
  },
  {
   "cell_type": "markdown",
   "metadata": {},
   "source": [
    "El grafico tiene diferentes longitudes y anchiaras, esto demuestra un agrupamiento relativamente malo"
   ]
  },
  {
   "cell_type": "markdown",
   "metadata": {},
   "source": [
    "# Ejemplo 2: clásificación de trilobites"
   ]
  },
  {
   "cell_type": "markdown",
   "metadata": {},
   "source": [
    "<img src=\"img/trilobites.jpg\" width=\"30%\">"
   ]
  },
  {
   "cell_type": "markdown",
   "metadata": {},
   "source": [
    "**Intuición**\n",
    "¿Qué grupos harías con los siguientes datos?,  ¿Cómo sería el proceso?"
   ]
  },
  {
   "cell_type": "code",
   "execution_count": null,
   "metadata": {},
   "outputs": [],
   "source": [
    "X = pd.read_csv(\"data/cluster1.csv\").values+15\n",
    "plt.scatter(X[:,0], X[:,1])\n",
    "plt.xlabel(\"anchura del trilobite\")\n",
    "plt.ylabel(\"largo del trilobite\");"
   ]
  },
  {
   "cell_type": "code",
   "execution_count": null,
   "metadata": {},
   "outputs": [],
   "source": [
    "X = pd.read_csv(\"data/cluster1.csv\").values+15\n",
    "n_clusters = 2\n",
    "\n",
    "km = KMeans(n_clusters=n_clusters)\n",
    "km.fit(X)\n",
    "y = km.predict(X)"
   ]
  },
  {
   "cell_type": "markdown",
   "metadata": {},
   "source": [
    "Numero de asignaciones por clase:"
   ]
  },
  {
   "cell_type": "code",
   "execution_count": null,
   "metadata": {},
   "outputs": [],
   "source": [
    "pd.Series(y).value_counts()"
   ]
  },
  {
   "cell_type": "markdown",
   "metadata": {},
   "source": [
    "Coordenadas de los clusters:"
   ]
  },
  {
   "cell_type": "code",
   "execution_count": null,
   "metadata": {},
   "outputs": [],
   "source": [
    "km.cluster_centers_"
   ]
  },
  {
   "cell_type": "code",
   "execution_count": null,
   "metadata": {},
   "outputs": [],
   "source": [
    "# Ayuda con comando (descomentar)\n",
    "#help(KMeans)"
   ]
  },
  {
   "cell_type": "code",
   "execution_count": null,
   "metadata": {},
   "outputs": [],
   "source": [
    "cmap = plt.cm.plasma\n",
    "\n",
    "cmap((y*255./(n_clusters-1)).astype(int))\n",
    "for i in np.unique(y):\n",
    "    cmap = plt.cm.bwr\n",
    "    col = cmap((i*255./(n_clusters-1)).astype(int))\n",
    "    Xr = X[y==i]\n",
    "    plt.scatter(Xr[:,0], Xr[:,1], color=col, label=\"cluster %d\"%i, alpha=.5)\n",
    "plt.scatter(km.cluster_centers_[:,0], km.cluster_centers_[:,1],marker=\"x\", lw=5, s=200, color=\"black\")\n",
    "plt.legend()    \n",
    "plt.xlabel(\"anchura del trilobite\")\n",
    "plt.ylabel(\"largo del trilobite\");"
   ]
  },
  {
   "cell_type": "markdown",
   "metadata": {},
   "source": [
    "observa cómo KMeans agrupa datos en 2D con diferentes números de clusters"
   ]
  },
  {
   "cell_type": "code",
   "execution_count": null,
   "metadata": {},
   "outputs": [],
   "source": [
    "X = pd.read_csv(\"data/cluster1.csv\").values\n",
    "importlib.reload(mlutils)\n",
    "mlutils.experiment_number_of_clusters(X, KMeans(), show_metric=False)"
   ]
  },
  {
   "cell_type": "markdown",
   "metadata": {},
   "source": [
    "# Ejemplo 3: Experimenta con distintos datasets sintéticos\n",
    "\n",
    "- Cambia `cluster_std` y `centers` en `make_blobs` para generar datasets con distintas distribuciones\n",
    "- Cuál es el númer de clusters _natural_ que usarías? por qué es _natural_?"
   ]
  },
  {
   "cell_type": "code",
   "execution_count": null,
   "metadata": {},
   "outputs": [],
   "source": [
    "X,_ = make_blobs(500, cluster_std=1.5, centers=6)\n",
    "mlutils.experiment_number_of_clusters(X, KMeans(), show_metric=False)"
   ]
  },
  {
   "cell_type": "markdown",
   "metadata": {},
   "source": [
    "### ¿Cómo seleccionar el número de clusters?\n",
    "\n",
    "Consulta <a href=\"https://en.wikipedia.org/wiki/Silhouette_(clustering)\">Silhouette Coefficient</a>"
   ]
  },
  {
   "cell_type": "code",
   "execution_count": null,
   "metadata": {},
   "outputs": [],
   "source": [
    "X = pd.read_csv(\"data/cluster1.csv\").values\n",
    "mlutils.experiment_number_of_clusters(X, KMeans(), show_metric=True)"
   ]
  },
  {
   "cell_type": "markdown",
   "metadata": {},
   "source": [
    "¿son **_naturales_** los clusters formados con los siguientes datos?"
   ]
  },
  {
   "cell_type": "code",
   "execution_count": null,
   "metadata": {},
   "outputs": [],
   "source": [
    "X,_ = make_moons(500, noise=.1)\n",
    "mlutils.plot_cluster_predictions(KMeans(), X, n_clusters=2,cmap=plt.cm.bwr, show_metric=True)"
   ]
  },
  {
   "cell_type": "markdown",
   "metadata": {},
   "source": [
    "# Ejemplo 4: k-means se limita a los froteras de cluster lineales\n",
    "\n",
    "Las suposiciones fundamentales del modelo de *k*-means (los puntos estarán más cerca de su propio cluster que de otros) significa que el algoritmo a menudo será ineficaz si los cluster tienen geometrías complicadas.\n",
    "\n",
    "Las fronteras entre los clusters *k*-means  siempre serán lineales, lo que significa que fallará para límites más complicados.\n",
    "Considere los siguientes datos, junto con las etiquetas de los cúmulos que se encuentran en el enfoque típico *k*-means:"
   ]
  },
  {
   "cell_type": "code",
   "execution_count": null,
   "metadata": {},
   "outputs": [],
   "source": [
    "from sklearn.datasets import make_moons\n",
    "X, y = make_moons(200, noise=.05, random_state=0)"
   ]
  },
  {
   "cell_type": "code",
   "execution_count": null,
   "metadata": {},
   "outputs": [],
   "source": [
    "labels = KMeans(2, random_state=0).fit_predict(X)\n",
    "plt.scatter(X[:, 0], X[:, 1], c=labels,\n",
    "            s=50, cmap='viridis');"
   ]
  },
  {
   "cell_type": "markdown",
   "metadata": {},
   "source": [
    "Una versión kernelizada de *k*-means se implementa en Scikit-Learn utilizando el estimador de ``SpectralClustering``.\n",
    "Utiliza el grafo de los vecinos más cercanos para calcular una representación dimensional más alta de los datos, y luego asigna etiquetas utilizando un algoritmo *k*-means:"
   ]
  },
  {
   "cell_type": "code",
   "execution_count": null,
   "metadata": {},
   "outputs": [],
   "source": [
    "from sklearn.cluster import SpectralClustering\n",
    "model = SpectralClustering(n_clusters=2, affinity='nearest_neighbors',\n",
    "                           assign_labels='kmeans')\n",
    "labels = model.fit_predict(X)\n",
    "plt.scatter(X[:, 0], X[:, 1], c=labels,\n",
    "            s=50, cmap='viridis');"
   ]
  },
  {
   "cell_type": "markdown",
   "metadata": {},
   "source": [
    "# Ejemplo 5: compresión de la imagen usando el algoritmo k-mean"
   ]
  },
  {
   "cell_type": "markdown",
   "metadata": {},
   "source": [
    "<img src=\"data/tiger.png\" width=\"50%\">"
   ]
  },
  {
   "cell_type": "code",
   "execution_count": null,
   "metadata": {},
   "outputs": [],
   "source": [
    "from skimage import io\n",
    "import numpy as np\n",
    "import numpy.matlib"
   ]
  },
  {
   "cell_type": "code",
   "execution_count": null,
   "metadata": {},
   "outputs": [],
   "source": [
    "tiger = io.imread('data/tiger.png')\n",
    "ax = plt.axes(xticks=[], yticks=[])\n",
    "ax.imshow(tiger);"
   ]
  },
  {
   "cell_type": "markdown",
   "metadata": {},
   "source": [
    "La imagen en sí se almacena en una matriz tridimensional de tamaño ``(alto, ancho, RGB)``, que contiene contribuciones rojas/azules/verdes como números enteros de 0 a 255:"
   ]
  },
  {
   "cell_type": "code",
   "execution_count": null,
   "metadata": {},
   "outputs": [],
   "source": [
    "tiger.shape"
   ]
  },
  {
   "cell_type": "markdown",
   "metadata": {},
   "source": [
    "Una forma en que podemos ver este conjunto de píxeles es como una nube de puntos en un espacio de color tridimensional.\n",
    "Redefiniremos los datos a ``[n_muestras x n_características]``, y reajustaremos los colores para que estén entre 0 y 1:"
   ]
  },
  {
   "cell_type": "code",
   "execution_count": null,
   "metadata": {},
   "outputs": [],
   "source": [
    "rows = tiger.shape[0]\n",
    "cols = tiger.shape[1]\n",
    "tiger = tiger/255.0\n",
    "data = tiger.reshape(tiger.shape[0]*tiger.shape[1],3) #693 * 1232 * 3\n",
    "data.shape"
   ]
  },
  {
   "cell_type": "markdown",
   "metadata": {},
   "source": [
    "Podemos visualizar estos píxeles en este espacio de color, usando un subconjunto de 10.000 píxeles para la eficiencia:"
   ]
  },
  {
   "cell_type": "code",
   "execution_count": null,
   "metadata": {},
   "outputs": [],
   "source": [
    "def plot_pixels(data, title, colors=None, N=10000):\n",
    "    if colors is None:\n",
    "        colors = data\n",
    "    \n",
    "    # choose a random subset\n",
    "    rng = np.random.RandomState(0)\n",
    "    i = rng.permutation(data.shape[0])[:N]\n",
    "    colors = colors[i]\n",
    "    R, G, B = data[i].T\n",
    "    \n",
    "    fig, ax = plt.subplots(1, 2, figsize=(16, 6))\n",
    "    ax[0].scatter(R, G, color=colors, marker='.')\n",
    "    ax[0].set(xlabel='Red', ylabel='Green', xlim=(0, 1), ylim=(0, 1))\n",
    "\n",
    "    ax[1].scatter(R, B, color=colors, marker='.')\n",
    "    ax[1].set(xlabel='Red', ylabel='Blue', xlim=(0, 1), ylim=(0, 1))\n",
    "\n",
    "    fig.suptitle(title, size=20);"
   ]
  },
  {
   "cell_type": "code",
   "execution_count": null,
   "metadata": {},
   "outputs": [],
   "source": [
    "plot_pixels(data, title='Espacio de color de entrada: 16 millones de colores posibles')"
   ]
  },
  {
   "cell_type": "markdown",
   "metadata": {},
   "source": [
    "Ahora vamos a reducir estos 16 millones de colores a sólo 16 colores, usando una agrupación *k*-means a través del espacio de píxeles.\n",
    "Debido a que estamos tratando con un conjunto de datos muy grande, usaremos el mini lote *(mini batch)* *k*-means, que opera en subconjuntos de datos para calcular el resultado mucho más rápido que el algoritmo estándar *k*-means:"
   ]
  },
  {
   "cell_type": "code",
   "execution_count": null,
   "metadata": {},
   "outputs": [],
   "source": [
    "import warnings; warnings.simplefilter('ignore')  # Fix NumPy issues.\n",
    "\n",
    "from sklearn.cluster import MiniBatchKMeans\n",
    "kmeans = MiniBatchKMeans(16)\n",
    "kmeans.fit(data)\n",
    "new_colors = kmeans.cluster_centers_[kmeans.predict(data)]\n",
    "\n",
    "plot_pixels(data, colors=new_colors,\n",
    "            title=\"Espacio de color reducido: 16 colores\")"
   ]
  },
  {
   "cell_type": "markdown",
   "metadata": {},
   "source": [
    "El resultado es un re-coloreado de los píxeles originales, donde a cada píxel se le asigna el color de su centro de cúmulo más cercano.\n",
    "Mostrar estos nuevos colores en el espacio de la imagen en lugar del espacio de los píxeles nos muestra el efecto:"
   ]
  },
  {
   "cell_type": "code",
   "execution_count": null,
   "metadata": {},
   "outputs": [],
   "source": [
    "tiger_recolored = new_colors.reshape(tiger.shape)\n",
    "\n",
    "fig, ax = plt.subplots(1, 2, figsize=(16, 6),\n",
    "                       subplot_kw=dict(xticks=[], yticks=[]))\n",
    "fig.subplots_adjust(wspace=0.05)\n",
    "ax[0].imshow(tiger)\n",
    "ax[0].set_title('Imagen original', size=16)\n",
    "ax[1].imshow(tiger_recolored)\n",
    "ax[1].set_title('Imagen de 16-colores', size=16);"
   ]
  },
  {
   "cell_type": "markdown",
   "metadata": {},
   "source": [
    "* Algunos detalles se pierden enla derecha, pero la imagen general sigue siendo fácilmente reconocible.\n",
    "* ¡Esta imagen de la derecha alcanza un factor de compresión de alrededor de 1 millón!"
   ]
  },
  {
   "cell_type": "code",
   "execution_count": null,
   "metadata": {},
   "outputs": [],
   "source": [
    "import imageio\n",
    "imageio.imwrite('tiger_recolored.png', tiger_recolored)"
   ]
  },
  {
   "cell_type": "code",
   "execution_count": null,
   "metadata": {},
   "outputs": [],
   "source": [
    "image_compressed = io.imread('tiger_recolored.png')\n",
    "io.imshow(image_compressed)\n",
    "io.show()"
   ]
  },
  {
   "cell_type": "markdown",
   "metadata": {},
   "source": [
    "A continuación de puede apreciar la diferencia entre los pesos de los archivos"
   ]
  },
  {
   "cell_type": "code",
   "execution_count": null,
   "metadata": {},
   "outputs": [],
   "source": [
    "import os\n",
    "info = os.stat('data/tiger.png')\n",
    "print(\"tamaño de la imagen antes de ejecutar el algoritmo k-mean: \",info.st_size/1024,\"KB\")\n",
    "info = os.stat('tiger_recolored.png')\n",
    "print(\"tamaño de la imagen despues de ejecutar el algoritmo k-mean: \",info.st_size/1024,\"KB\")"
   ]
  },
  {
   "cell_type": "markdown",
   "metadata": {},
   "source": [
    "## Referencias generales\n",
    "\n",
    "- [Cluster Analysis on Wikipedia](https://en.wikipedia.org/wiki/Cluster_analysis)\n",
    "- [Cluster Analysis, Basic concepts and algorithms](https://www-users.cs.umn.edu/~kumar001/dmbook/ch8.pdf)"
   ]
  }
 ],
 "metadata": {
  "kernelspec": {
   "display_name": "Python 3",
   "language": "python",
   "name": "python3"
  },
  "language_info": {
   "codemirror_mode": {
    "name": "ipython",
    "version": 3
   },
   "file_extension": ".py",
   "mimetype": "text/x-python",
   "name": "python",
   "nbconvert_exporter": "python",
   "pygments_lexer": "ipython3",
   "version": "3.7.4"
  }
 },
 "nbformat": 4,
 "nbformat_minor": 2
}
